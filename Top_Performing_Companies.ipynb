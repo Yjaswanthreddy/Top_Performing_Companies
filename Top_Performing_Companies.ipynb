{
 "cells": [
  {
   "cell_type": "markdown",
   "id": "0b2d9cd3",
   "metadata": {},
   "source": [
    "DATA PREPROCESSING "
   ]
  },
  {
   "cell_type": "markdown",
   "id": "ffe60da1",
   "metadata": {},
   "source": [
    "STEP 1: IMPORTING LIBRARIES"
   ]
  },
  {
   "cell_type": "code",
   "execution_count": 2,
   "id": "2a32f84d",
   "metadata": {
    "tags": []
   },
   "outputs": [],
   "source": [
    "import pandas as pd\n",
    "import numpy as np\n",
    "import matplotlib.pyplot as plt\n",
    "import seaborn as sns"
   ]
  },
  {
   "cell_type": "markdown",
   "id": "53639012",
   "metadata": {},
   "source": [
    "STEP 2: LOADING A DATA"
   ]
  },
  {
   "cell_type": "code",
   "execution_count": 3,
   "id": "0931e908",
   "metadata": {
    "tags": []
   },
   "outputs": [
    {
     "data": {
      "text/html": [
       "<div>\n",
       "<style scoped>\n",
       "    .dataframe tbody tr th:only-of-type {\n",
       "        vertical-align: middle;\n",
       "    }\n",
       "\n",
       "    .dataframe tbody tr th {\n",
       "        vertical-align: top;\n",
       "    }\n",
       "\n",
       "    .dataframe thead th {\n",
       "        text-align: right;\n",
       "    }\n",
       "</style>\n",
       "<table border=\"1\" class=\"dataframe\">\n",
       "  <thead>\n",
       "    <tr style=\"text-align: right;\">\n",
       "      <th></th>\n",
       "      <th>SL-NO</th>\n",
       "      <th>Name</th>\n",
       "      <th>Industry</th>\n",
       "      <th>Founded</th>\n",
       "      <th>Headquarters</th>\n",
       "      <th>Country</th>\n",
       "      <th>CEO</th>\n",
       "      <th>Employees</th>\n",
       "      <th>Revenue</th>\n",
       "      <th>Assets</th>\n",
       "      <th>Profits</th>\n",
       "    </tr>\n",
       "  </thead>\n",
       "  <tbody>\n",
       "    <tr>\n",
       "      <th>0</th>\n",
       "      <td>1</td>\n",
       "      <td>Cathay Financial</td>\n",
       "      <td>Insurance</td>\n",
       "      <td>1975.0</td>\n",
       "      <td>Taipei</td>\n",
       "      <td>Taiwan</td>\n",
       "      <td>NaN</td>\n",
       "      <td>56031.0</td>\n",
       "      <td>$8.7B</td>\n",
       "      <td>$392.3B</td>\n",
       "      <td>$1.3B</td>\n",
       "    </tr>\n",
       "    <tr>\n",
       "      <th>1</th>\n",
       "      <td>2</td>\n",
       "      <td>NAB - National Australia Bank</td>\n",
       "      <td>Banking</td>\n",
       "      <td>1981.0</td>\n",
       "      <td>Melbourne</td>\n",
       "      <td>Australia</td>\n",
       "      <td>Ross Maxwell McEwan</td>\n",
       "      <td>35558.0</td>\n",
       "      <td>$26.3B</td>\n",
       "      <td>$702.1B</td>\n",
       "      <td>$5B</td>\n",
       "    </tr>\n",
       "    <tr>\n",
       "      <th>2</th>\n",
       "      <td>3</td>\n",
       "      <td>China Vanke</td>\n",
       "      <td>Construction</td>\n",
       "      <td>1984.0</td>\n",
       "      <td>Shenzhen</td>\n",
       "      <td>China</td>\n",
       "      <td>Jiu Sheng Zhu</td>\n",
       "      <td>131817.0</td>\n",
       "      <td>$75.6B</td>\n",
       "      <td>$253.7B</td>\n",
       "      <td>$3.3B</td>\n",
       "    </tr>\n",
       "    <tr>\n",
       "      <th>3</th>\n",
       "      <td>4</td>\n",
       "      <td>Telefónica</td>\n",
       "      <td>Telecommunications Services</td>\n",
       "      <td>1924.0</td>\n",
       "      <td>Madrid</td>\n",
       "      <td>Spain</td>\n",
       "      <td>José María Álvarez-Pallete López</td>\n",
       "      <td>104150.0</td>\n",
       "      <td>$42B</td>\n",
       "      <td>$117B</td>\n",
       "      <td>$2.1B</td>\n",
       "    </tr>\n",
       "    <tr>\n",
       "      <th>4</th>\n",
       "      <td>5</td>\n",
       "      <td>Dow</td>\n",
       "      <td>Construction, Oil &amp; Gas Operations, Mining and...</td>\n",
       "      <td>1897.0</td>\n",
       "      <td>Midland, Michigan</td>\n",
       "      <td>United States</td>\n",
       "      <td>Jim Fitterling</td>\n",
       "      <td>37800.0</td>\n",
       "      <td>$53.5B</td>\n",
       "      <td>$59.3B</td>\n",
       "      <td>$2.9B</td>\n",
       "    </tr>\n",
       "  </tbody>\n",
       "</table>\n",
       "</div>"
      ],
      "text/plain": [
       "   SL-NO                           Name  \\\n",
       "0      1               Cathay Financial   \n",
       "1      2  NAB - National Australia Bank   \n",
       "2      3                    China Vanke   \n",
       "3      4                     Telefónica   \n",
       "4      5                            Dow   \n",
       "\n",
       "                                            Industry  Founded  \\\n",
       "0                                          Insurance   1975.0   \n",
       "1                                            Banking   1981.0   \n",
       "2                                       Construction   1984.0   \n",
       "3                        Telecommunications Services   1924.0   \n",
       "4  Construction, Oil & Gas Operations, Mining and...   1897.0   \n",
       "\n",
       "        Headquarters        Country                               CEO  \\\n",
       "0             Taipei         Taiwan                               NaN   \n",
       "1          Melbourne      Australia               Ross Maxwell McEwan   \n",
       "2           Shenzhen          China                     Jiu Sheng Zhu   \n",
       "3             Madrid          Spain  José María Álvarez-Pallete López   \n",
       "4  Midland, Michigan  United States                    Jim Fitterling   \n",
       "\n",
       "   Employees Revenue   Assets Profits  \n",
       "0    56031.0   $8.7B  $392.3B   $1.3B  \n",
       "1    35558.0  $26.3B  $702.1B     $5B  \n",
       "2   131817.0  $75.6B  $253.7B   $3.3B  \n",
       "3   104150.0    $42B    $117B   $2.1B  \n",
       "4    37800.0  $53.5B   $59.3B   $2.9B  "
      ]
     },
     "execution_count": 3,
     "metadata": {},
     "output_type": "execute_result"
    }
   ],
   "source": [
    "df = pd.read_csv(\"/Users/apple/Downloads/Data-Science-main/dswp04691\\ \\(1\\).csv\"\")\n",
    "df.head()"
   ]
  },
  {
   "cell_type": "markdown",
   "id": "750b6678",
   "metadata": {},
   "source": [
    "STEP 3: UNDERSTANDING THE DATA"
   ]
  },
  {
   "cell_type": "markdown",
   "id": "71a698d5",
   "metadata": {},
   "source": [
    "A. Displaying the columns of a dataset"
   ]
  },
  {
   "cell_type": "code",
   "execution_count": 4,
   "id": "192859aa",
   "metadata": {
    "tags": []
   },
   "outputs": [
    {
     "data": {
      "text/plain": [
       "Index(['SL-NO', 'Name', 'Industry', 'Founded', 'Headquarters', 'Country',\n",
       "       'CEO', 'Employees', 'Revenue', 'Assets', 'Profits'],\n",
       "      dtype='object')"
      ]
     },
     "execution_count": 4,
     "metadata": {},
     "output_type": "execute_result"
    }
   ],
   "source": [
    "df.columns\n"
   ]
  },
  {
   "cell_type": "markdown",
   "id": "4a3c36ed",
   "metadata": {},
   "source": [
    "B. Removing the unnamed columns"
   ]
  },
  {
   "cell_type": "code",
   "execution_count": 5,
   "id": "c5186285",
   "metadata": {
    "tags": []
   },
   "outputs": [
    {
     "data": {
      "text/html": [
       "<div>\n",
       "<style scoped>\n",
       "    .dataframe tbody tr th:only-of-type {\n",
       "        vertical-align: middle;\n",
       "    }\n",
       "\n",
       "    .dataframe tbody tr th {\n",
       "        vertical-align: top;\n",
       "    }\n",
       "\n",
       "    .dataframe thead th {\n",
       "        text-align: right;\n",
       "    }\n",
       "</style>\n",
       "<table border=\"1\" class=\"dataframe\">\n",
       "  <thead>\n",
       "    <tr style=\"text-align: right;\">\n",
       "      <th></th>\n",
       "      <th>SL-NO</th>\n",
       "      <th>Name</th>\n",
       "      <th>Industry</th>\n",
       "      <th>Founded</th>\n",
       "      <th>Headquarters</th>\n",
       "      <th>Country</th>\n",
       "      <th>CEO</th>\n",
       "      <th>Employees</th>\n",
       "      <th>Revenue</th>\n",
       "      <th>Assets</th>\n",
       "      <th>Profits</th>\n",
       "    </tr>\n",
       "  </thead>\n",
       "  <tbody>\n",
       "    <tr>\n",
       "      <th>0</th>\n",
       "      <td>1</td>\n",
       "      <td>Cathay Financial</td>\n",
       "      <td>Insurance</td>\n",
       "      <td>1975.0</td>\n",
       "      <td>Taipei</td>\n",
       "      <td>Taiwan</td>\n",
       "      <td>NaN</td>\n",
       "      <td>56031.0</td>\n",
       "      <td>$8.7B</td>\n",
       "      <td>$392.3B</td>\n",
       "      <td>$1.3B</td>\n",
       "    </tr>\n",
       "    <tr>\n",
       "      <th>1</th>\n",
       "      <td>2</td>\n",
       "      <td>NAB - National Australia Bank</td>\n",
       "      <td>Banking</td>\n",
       "      <td>1981.0</td>\n",
       "      <td>Melbourne</td>\n",
       "      <td>Australia</td>\n",
       "      <td>Ross Maxwell McEwan</td>\n",
       "      <td>35558.0</td>\n",
       "      <td>$26.3B</td>\n",
       "      <td>$702.1B</td>\n",
       "      <td>$5B</td>\n",
       "    </tr>\n",
       "    <tr>\n",
       "      <th>2</th>\n",
       "      <td>3</td>\n",
       "      <td>China Vanke</td>\n",
       "      <td>Construction</td>\n",
       "      <td>1984.0</td>\n",
       "      <td>Shenzhen</td>\n",
       "      <td>China</td>\n",
       "      <td>Jiu Sheng Zhu</td>\n",
       "      <td>131817.0</td>\n",
       "      <td>$75.6B</td>\n",
       "      <td>$253.7B</td>\n",
       "      <td>$3.3B</td>\n",
       "    </tr>\n",
       "    <tr>\n",
       "      <th>3</th>\n",
       "      <td>4</td>\n",
       "      <td>Telefónica</td>\n",
       "      <td>Telecommunications Services</td>\n",
       "      <td>1924.0</td>\n",
       "      <td>Madrid</td>\n",
       "      <td>Spain</td>\n",
       "      <td>José María Álvarez-Pallete López</td>\n",
       "      <td>104150.0</td>\n",
       "      <td>$42B</td>\n",
       "      <td>$117B</td>\n",
       "      <td>$2.1B</td>\n",
       "    </tr>\n",
       "    <tr>\n",
       "      <th>4</th>\n",
       "      <td>5</td>\n",
       "      <td>Dow</td>\n",
       "      <td>Construction, Oil &amp; Gas Operations, Mining and...</td>\n",
       "      <td>1897.0</td>\n",
       "      <td>Midland, Michigan</td>\n",
       "      <td>United States</td>\n",
       "      <td>Jim Fitterling</td>\n",
       "      <td>37800.0</td>\n",
       "      <td>$53.5B</td>\n",
       "      <td>$59.3B</td>\n",
       "      <td>$2.9B</td>\n",
       "    </tr>\n",
       "  </tbody>\n",
       "</table>\n",
       "</div>"
      ],
      "text/plain": [
       "   SL-NO                           Name  \\\n",
       "0      1               Cathay Financial   \n",
       "1      2  NAB - National Australia Bank   \n",
       "2      3                    China Vanke   \n",
       "3      4                     Telefónica   \n",
       "4      5                            Dow   \n",
       "\n",
       "                                            Industry  Founded  \\\n",
       "0                                          Insurance   1975.0   \n",
       "1                                            Banking   1981.0   \n",
       "2                                       Construction   1984.0   \n",
       "3                        Telecommunications Services   1924.0   \n",
       "4  Construction, Oil & Gas Operations, Mining and...   1897.0   \n",
       "\n",
       "        Headquarters        Country                               CEO  \\\n",
       "0             Taipei         Taiwan                               NaN   \n",
       "1          Melbourne      Australia               Ross Maxwell McEwan   \n",
       "2           Shenzhen          China                     Jiu Sheng Zhu   \n",
       "3             Madrid          Spain  José María Álvarez-Pallete López   \n",
       "4  Midland, Michigan  United States                    Jim Fitterling   \n",
       "\n",
       "   Employees Revenue   Assets Profits  \n",
       "0    56031.0   $8.7B  $392.3B   $1.3B  \n",
       "1    35558.0  $26.3B  $702.1B     $5B  \n",
       "2   131817.0  $75.6B  $253.7B   $3.3B  \n",
       "3   104150.0    $42B    $117B   $2.1B  \n",
       "4    37800.0  $53.5B   $59.3B   $2.9B  "
      ]
     },
     "execution_count": 5,
     "metadata": {},
     "output_type": "execute_result"
    }
   ],
   "source": [
    "df = df.loc[:, ~df.columns.str.contains('^Unnamed')]\n",
    "df.head()"
   ]
  },
  {
   "cell_type": "markdown",
   "id": "4a9013e6",
   "metadata": {},
   "source": [
    "C. Viewing the first 10 rows of the data"
   ]
  },
  {
   "cell_type": "code",
   "execution_count": 6,
   "id": "e2958226",
   "metadata": {
    "tags": []
   },
   "outputs": [
    {
     "data": {
      "text/html": [
       "<div>\n",
       "<style scoped>\n",
       "    .dataframe tbody tr th:only-of-type {\n",
       "        vertical-align: middle;\n",
       "    }\n",
       "\n",
       "    .dataframe tbody tr th {\n",
       "        vertical-align: top;\n",
       "    }\n",
       "\n",
       "    .dataframe thead th {\n",
       "        text-align: right;\n",
       "    }\n",
       "</style>\n",
       "<table border=\"1\" class=\"dataframe\">\n",
       "  <thead>\n",
       "    <tr style=\"text-align: right;\">\n",
       "      <th></th>\n",
       "      <th>SL-NO</th>\n",
       "      <th>Name</th>\n",
       "      <th>Industry</th>\n",
       "      <th>Founded</th>\n",
       "      <th>Headquarters</th>\n",
       "      <th>Country</th>\n",
       "      <th>CEO</th>\n",
       "      <th>Employees</th>\n",
       "      <th>Revenue</th>\n",
       "      <th>Assets</th>\n",
       "      <th>Profits</th>\n",
       "    </tr>\n",
       "  </thead>\n",
       "  <tbody>\n",
       "    <tr>\n",
       "      <th>0</th>\n",
       "      <td>1</td>\n",
       "      <td>Cathay Financial</td>\n",
       "      <td>Insurance</td>\n",
       "      <td>1975.0</td>\n",
       "      <td>Taipei</td>\n",
       "      <td>Taiwan</td>\n",
       "      <td>NaN</td>\n",
       "      <td>56031.0</td>\n",
       "      <td>$8.7B</td>\n",
       "      <td>$392.3B</td>\n",
       "      <td>$1.3B</td>\n",
       "    </tr>\n",
       "    <tr>\n",
       "      <th>1</th>\n",
       "      <td>2</td>\n",
       "      <td>NAB - National Australia Bank</td>\n",
       "      <td>Banking</td>\n",
       "      <td>1981.0</td>\n",
       "      <td>Melbourne</td>\n",
       "      <td>Australia</td>\n",
       "      <td>Ross Maxwell McEwan</td>\n",
       "      <td>35558.0</td>\n",
       "      <td>$26.3B</td>\n",
       "      <td>$702.1B</td>\n",
       "      <td>$5B</td>\n",
       "    </tr>\n",
       "    <tr>\n",
       "      <th>2</th>\n",
       "      <td>3</td>\n",
       "      <td>China Vanke</td>\n",
       "      <td>Construction</td>\n",
       "      <td>1984.0</td>\n",
       "      <td>Shenzhen</td>\n",
       "      <td>China</td>\n",
       "      <td>Jiu Sheng Zhu</td>\n",
       "      <td>131817.0</td>\n",
       "      <td>$75.6B</td>\n",
       "      <td>$253.7B</td>\n",
       "      <td>$3.3B</td>\n",
       "    </tr>\n",
       "    <tr>\n",
       "      <th>3</th>\n",
       "      <td>4</td>\n",
       "      <td>Telefónica</td>\n",
       "      <td>Telecommunications Services</td>\n",
       "      <td>1924.0</td>\n",
       "      <td>Madrid</td>\n",
       "      <td>Spain</td>\n",
       "      <td>José María Álvarez-Pallete López</td>\n",
       "      <td>104150.0</td>\n",
       "      <td>$42B</td>\n",
       "      <td>$117B</td>\n",
       "      <td>$2.1B</td>\n",
       "    </tr>\n",
       "    <tr>\n",
       "      <th>4</th>\n",
       "      <td>5</td>\n",
       "      <td>Dow</td>\n",
       "      <td>Construction, Oil &amp; Gas Operations, Mining and...</td>\n",
       "      <td>1897.0</td>\n",
       "      <td>Midland, Michigan</td>\n",
       "      <td>United States</td>\n",
       "      <td>Jim Fitterling</td>\n",
       "      <td>37800.0</td>\n",
       "      <td>$53.5B</td>\n",
       "      <td>$59.3B</td>\n",
       "      <td>$2.9B</td>\n",
       "    </tr>\n",
       "    <tr>\n",
       "      <th>5</th>\n",
       "      <td>6</td>\n",
       "      <td>HCA Healthcare</td>\n",
       "      <td>Healthcare &amp; Social</td>\n",
       "      <td>1968.0</td>\n",
       "      <td>Nashville, Tennessee</td>\n",
       "      <td>United States</td>\n",
       "      <td>Samuel N. Hazen</td>\n",
       "      <td>275000.0</td>\n",
       "      <td>$60.9B</td>\n",
       "      <td>$52.7B</td>\n",
       "      <td>$5.7B</td>\n",
       "    </tr>\n",
       "    <tr>\n",
       "      <th>6</th>\n",
       "      <td>7</td>\n",
       "      <td>China Telecom Corp</td>\n",
       "      <td>NaN</td>\n",
       "      <td>NaN</td>\n",
       "      <td>NaN</td>\n",
       "      <td>NaN</td>\n",
       "      <td>NaN</td>\n",
       "      <td>NaN</td>\n",
       "      <td>NaN</td>\n",
       "      <td>NaN</td>\n",
       "      <td>NaN</td>\n",
       "    </tr>\n",
       "    <tr>\n",
       "      <th>7</th>\n",
       "      <td>8</td>\n",
       "      <td>Fubon Financial</td>\n",
       "      <td>Insurance</td>\n",
       "      <td>2001.0</td>\n",
       "      <td>Taipei</td>\n",
       "      <td>Taiwan</td>\n",
       "      <td>Yue Ting Han</td>\n",
       "      <td>42560.0</td>\n",
       "      <td>$9.8B</td>\n",
       "      <td>$349.1B</td>\n",
       "      <td>$471M</td>\n",
       "    </tr>\n",
       "    <tr>\n",
       "      <th>8</th>\n",
       "      <td>9</td>\n",
       "      <td>ANZ</td>\n",
       "      <td>Banking</td>\n",
       "      <td>1835.0</td>\n",
       "      <td>Docklands</td>\n",
       "      <td>Australia</td>\n",
       "      <td>Shayne Cary Elliott</td>\n",
       "      <td>39196.0</td>\n",
       "      <td>$28.3B</td>\n",
       "      <td>$744.2B</td>\n",
       "      <td>$4.9B</td>\n",
       "    </tr>\n",
       "    <tr>\n",
       "      <th>9</th>\n",
       "      <td>10</td>\n",
       "      <td>Micron Technology</td>\n",
       "      <td>Semiconductors, Electronics, Electrical Engine...</td>\n",
       "      <td>1978.0</td>\n",
       "      <td>Boise, Idaho</td>\n",
       "      <td>United States</td>\n",
       "      <td>Sanjay Mehrotra</td>\n",
       "      <td>40000.0</td>\n",
       "      <td>$23.1B</td>\n",
       "      <td>$66.5B</td>\n",
       "      <td>$1.6B</td>\n",
       "    </tr>\n",
       "  </tbody>\n",
       "</table>\n",
       "</div>"
      ],
      "text/plain": [
       "   SL-NO                           Name  \\\n",
       "0      1               Cathay Financial   \n",
       "1      2  NAB - National Australia Bank   \n",
       "2      3                    China Vanke   \n",
       "3      4                     Telefónica   \n",
       "4      5                            Dow   \n",
       "5      6                 HCA Healthcare   \n",
       "6      7             China Telecom Corp   \n",
       "7      8                Fubon Financial   \n",
       "8      9                            ANZ   \n",
       "9     10              Micron Technology   \n",
       "\n",
       "                                            Industry  Founded  \\\n",
       "0                                          Insurance   1975.0   \n",
       "1                                            Banking   1981.0   \n",
       "2                                       Construction   1984.0   \n",
       "3                        Telecommunications Services   1924.0   \n",
       "4  Construction, Oil & Gas Operations, Mining and...   1897.0   \n",
       "5                                Healthcare & Social   1968.0   \n",
       "6                                                NaN      NaN   \n",
       "7                                          Insurance   2001.0   \n",
       "8                                            Banking   1835.0   \n",
       "9  Semiconductors, Electronics, Electrical Engine...   1978.0   \n",
       "\n",
       "           Headquarters        Country                               CEO  \\\n",
       "0                Taipei         Taiwan                               NaN   \n",
       "1             Melbourne      Australia               Ross Maxwell McEwan   \n",
       "2              Shenzhen          China                     Jiu Sheng Zhu   \n",
       "3                Madrid          Spain  José María Álvarez-Pallete López   \n",
       "4     Midland, Michigan  United States                    Jim Fitterling   \n",
       "5  Nashville, Tennessee  United States                   Samuel N. Hazen   \n",
       "6                   NaN            NaN                               NaN   \n",
       "7                Taipei         Taiwan                      Yue Ting Han   \n",
       "8             Docklands      Australia               Shayne Cary Elliott   \n",
       "9          Boise, Idaho  United States                   Sanjay Mehrotra   \n",
       "\n",
       "   Employees Revenue   Assets Profits  \n",
       "0    56031.0   $8.7B  $392.3B   $1.3B  \n",
       "1    35558.0  $26.3B  $702.1B     $5B  \n",
       "2   131817.0  $75.6B  $253.7B   $3.3B  \n",
       "3   104150.0    $42B    $117B   $2.1B  \n",
       "4    37800.0  $53.5B   $59.3B   $2.9B  \n",
       "5   275000.0  $60.9B   $52.7B   $5.7B  \n",
       "6        NaN     NaN      NaN     NaN  \n",
       "7    42560.0   $9.8B  $349.1B   $471M  \n",
       "8    39196.0  $28.3B  $744.2B   $4.9B  \n",
       "9    40000.0  $23.1B   $66.5B   $1.6B  "
      ]
     },
     "execution_count": 6,
     "metadata": {},
     "output_type": "execute_result"
    }
   ],
   "source": [
    "df.head(10)"
   ]
  },
  {
   "cell_type": "markdown",
   "id": "a8ea150e",
   "metadata": {},
   "source": [
    "D. Removing the extra NAN values which is not providing any information "
   ]
  },
  {
   "cell_type": "code",
   "execution_count": 7,
   "id": "d8c5c58c",
   "metadata": {
    "tags": []
   },
   "outputs": [
    {
     "data": {
      "text/html": [
       "<div>\n",
       "<style scoped>\n",
       "    .dataframe tbody tr th:only-of-type {\n",
       "        vertical-align: middle;\n",
       "    }\n",
       "\n",
       "    .dataframe tbody tr th {\n",
       "        vertical-align: top;\n",
       "    }\n",
       "\n",
       "    .dataframe thead th {\n",
       "        text-align: right;\n",
       "    }\n",
       "</style>\n",
       "<table border=\"1\" class=\"dataframe\">\n",
       "  <thead>\n",
       "    <tr style=\"text-align: right;\">\n",
       "      <th></th>\n",
       "      <th>SL-NO</th>\n",
       "      <th>Name</th>\n",
       "      <th>Industry</th>\n",
       "      <th>Founded</th>\n",
       "      <th>Headquarters</th>\n",
       "      <th>Country</th>\n",
       "      <th>CEO</th>\n",
       "      <th>Employees</th>\n",
       "      <th>Revenue</th>\n",
       "      <th>Assets</th>\n",
       "      <th>Profits</th>\n",
       "    </tr>\n",
       "  </thead>\n",
       "  <tbody>\n",
       "    <tr>\n",
       "      <th>0</th>\n",
       "      <td>1</td>\n",
       "      <td>Cathay Financial</td>\n",
       "      <td>Insurance</td>\n",
       "      <td>1975.0</td>\n",
       "      <td>Taipei</td>\n",
       "      <td>Taiwan</td>\n",
       "      <td>NaN</td>\n",
       "      <td>56031.0</td>\n",
       "      <td>$8.7B</td>\n",
       "      <td>$392.3B</td>\n",
       "      <td>$1.3B</td>\n",
       "    </tr>\n",
       "    <tr>\n",
       "      <th>1</th>\n",
       "      <td>2</td>\n",
       "      <td>NAB - National Australia Bank</td>\n",
       "      <td>Banking</td>\n",
       "      <td>1981.0</td>\n",
       "      <td>Melbourne</td>\n",
       "      <td>Australia</td>\n",
       "      <td>Ross Maxwell McEwan</td>\n",
       "      <td>35558.0</td>\n",
       "      <td>$26.3B</td>\n",
       "      <td>$702.1B</td>\n",
       "      <td>$5B</td>\n",
       "    </tr>\n",
       "    <tr>\n",
       "      <th>2</th>\n",
       "      <td>3</td>\n",
       "      <td>China Vanke</td>\n",
       "      <td>Construction</td>\n",
       "      <td>1984.0</td>\n",
       "      <td>Shenzhen</td>\n",
       "      <td>China</td>\n",
       "      <td>Jiu Sheng Zhu</td>\n",
       "      <td>131817.0</td>\n",
       "      <td>$75.6B</td>\n",
       "      <td>$253.7B</td>\n",
       "      <td>$3.3B</td>\n",
       "    </tr>\n",
       "    <tr>\n",
       "      <th>3</th>\n",
       "      <td>4</td>\n",
       "      <td>Telefónica</td>\n",
       "      <td>Telecommunications Services</td>\n",
       "      <td>1924.0</td>\n",
       "      <td>Madrid</td>\n",
       "      <td>Spain</td>\n",
       "      <td>José María Álvarez-Pallete López</td>\n",
       "      <td>104150.0</td>\n",
       "      <td>$42B</td>\n",
       "      <td>$117B</td>\n",
       "      <td>$2.1B</td>\n",
       "    </tr>\n",
       "    <tr>\n",
       "      <th>4</th>\n",
       "      <td>5</td>\n",
       "      <td>Dow</td>\n",
       "      <td>Construction, Oil &amp; Gas Operations, Mining and...</td>\n",
       "      <td>1897.0</td>\n",
       "      <td>Midland, Michigan</td>\n",
       "      <td>United States</td>\n",
       "      <td>Jim Fitterling</td>\n",
       "      <td>37800.0</td>\n",
       "      <td>$53.5B</td>\n",
       "      <td>$59.3B</td>\n",
       "      <td>$2.9B</td>\n",
       "    </tr>\n",
       "    <tr>\n",
       "      <th>...</th>\n",
       "      <td>...</td>\n",
       "      <td>...</td>\n",
       "      <td>...</td>\n",
       "      <td>...</td>\n",
       "      <td>...</td>\n",
       "      <td>...</td>\n",
       "      <td>...</td>\n",
       "      <td>...</td>\n",
       "      <td>...</td>\n",
       "      <td>...</td>\n",
       "      <td>...</td>\n",
       "    </tr>\n",
       "    <tr>\n",
       "      <th>599</th>\n",
       "      <td>600</td>\n",
       "      <td>TD</td>\n",
       "      <td>Banking</td>\n",
       "      <td>1855.0</td>\n",
       "      <td>Toronto, Ontario</td>\n",
       "      <td>Canada</td>\n",
       "      <td>NaN</td>\n",
       "      <td>90000.0</td>\n",
       "      <td>NaN</td>\n",
       "      <td>NaN</td>\n",
       "      <td>NaN</td>\n",
       "    </tr>\n",
       "    <tr>\n",
       "      <th>600</th>\n",
       "      <td>601</td>\n",
       "      <td>Reliance Industries</td>\n",
       "      <td>Oil &amp; Gas Operations</td>\n",
       "      <td>1973.0</td>\n",
       "      <td>Mumbai</td>\n",
       "      <td>India</td>\n",
       "      <td>Mukesh Dhirubhai Ambani</td>\n",
       "      <td>236334.0</td>\n",
       "      <td>$109.4B</td>\n",
       "      <td>$208.5B</td>\n",
       "      <td>$8.3B</td>\n",
       "    </tr>\n",
       "    <tr>\n",
       "      <th>601</th>\n",
       "      <td>602</td>\n",
       "      <td>Nippon Telegraph &amp; Tel</td>\n",
       "      <td>Telecommunications Services</td>\n",
       "      <td>1952.0</td>\n",
       "      <td>Tokyo</td>\n",
       "      <td>Japan</td>\n",
       "      <td>Jun Sawada</td>\n",
       "      <td>333840.0</td>\n",
       "      <td>$97.4B</td>\n",
       "      <td>$190.7B</td>\n",
       "      <td>$9B</td>\n",
       "    </tr>\n",
       "    <tr>\n",
       "      <th>602</th>\n",
       "      <td>603</td>\n",
       "      <td>Intel</td>\n",
       "      <td>Semiconductors, Electronics, Electrical Engine...</td>\n",
       "      <td>1968.0</td>\n",
       "      <td>Santa Clara, California</td>\n",
       "      <td>United States</td>\n",
       "      <td>Patrick P. Gelsinger</td>\n",
       "      <td>131900.0</td>\n",
       "      <td>$56.4B</td>\n",
       "      <td>$185.3B</td>\n",
       "      <td>-$2.9B</td>\n",
       "    </tr>\n",
       "    <tr>\n",
       "      <th>603</th>\n",
       "      <td>604</td>\n",
       "      <td>BP</td>\n",
       "      <td>Construction, Oil &amp; Gas Operations, Mining and...</td>\n",
       "      <td>1909.0</td>\n",
       "      <td>London</td>\n",
       "      <td>United Kingdom</td>\n",
       "      <td>Bernard Looney</td>\n",
       "      <td>67600.0</td>\n",
       "      <td>$248.1B</td>\n",
       "      <td>$278.7B</td>\n",
       "      <td>$25.9B</td>\n",
       "    </tr>\n",
       "  </tbody>\n",
       "</table>\n",
       "<p>604 rows × 11 columns</p>\n",
       "</div>"
      ],
      "text/plain": [
       "     SL-NO                           Name  \\\n",
       "0        1               Cathay Financial   \n",
       "1        2  NAB - National Australia Bank   \n",
       "2        3                    China Vanke   \n",
       "3        4                     Telefónica   \n",
       "4        5                            Dow   \n",
       "..     ...                            ...   \n",
       "599    600                             TD   \n",
       "600    601            Reliance Industries   \n",
       "601    602         Nippon Telegraph & Tel   \n",
       "602    603                          Intel   \n",
       "603    604                             BP   \n",
       "\n",
       "                                              Industry  Founded  \\\n",
       "0                                            Insurance   1975.0   \n",
       "1                                              Banking   1981.0   \n",
       "2                                         Construction   1984.0   \n",
       "3                          Telecommunications Services   1924.0   \n",
       "4    Construction, Oil & Gas Operations, Mining and...   1897.0   \n",
       "..                                                 ...      ...   \n",
       "599                                            Banking   1855.0   \n",
       "600                               Oil & Gas Operations   1973.0   \n",
       "601                        Telecommunications Services   1952.0   \n",
       "602  Semiconductors, Electronics, Electrical Engine...   1968.0   \n",
       "603  Construction, Oil & Gas Operations, Mining and...   1909.0   \n",
       "\n",
       "                Headquarters         Country  \\\n",
       "0                     Taipei          Taiwan   \n",
       "1                  Melbourne       Australia   \n",
       "2                   Shenzhen           China   \n",
       "3                     Madrid           Spain   \n",
       "4          Midland, Michigan   United States   \n",
       "..                       ...             ...   \n",
       "599         Toronto, Ontario          Canada   \n",
       "600                   Mumbai           India   \n",
       "601                    Tokyo           Japan   \n",
       "602  Santa Clara, California   United States   \n",
       "603                   London  United Kingdom   \n",
       "\n",
       "                                  CEO  Employees  Revenue   Assets Profits  \n",
       "0                                 NaN    56031.0    $8.7B  $392.3B   $1.3B  \n",
       "1                 Ross Maxwell McEwan    35558.0   $26.3B  $702.1B     $5B  \n",
       "2                       Jiu Sheng Zhu   131817.0   $75.6B  $253.7B   $3.3B  \n",
       "3    José María Álvarez-Pallete López   104150.0     $42B    $117B   $2.1B  \n",
       "4                      Jim Fitterling    37800.0   $53.5B   $59.3B   $2.9B  \n",
       "..                                ...        ...      ...      ...     ...  \n",
       "599                               NaN    90000.0      NaN      NaN     NaN  \n",
       "600           Mukesh Dhirubhai Ambani   236334.0  $109.4B  $208.5B   $8.3B  \n",
       "601                        Jun Sawada   333840.0   $97.4B  $190.7B     $9B  \n",
       "602              Patrick P. Gelsinger   131900.0   $56.4B  $185.3B  -$2.9B  \n",
       "603                    Bernard Looney    67600.0  $248.1B  $278.7B  $25.9B  \n",
       "\n",
       "[604 rows x 11 columns]"
      ]
     },
     "execution_count": 7,
     "metadata": {},
     "output_type": "execute_result"
    }
   ],
   "source": [
    "df.drop(df.index[604:],inplace=True)\n",
    "df"
   ]
  },
  {
   "cell_type": "markdown",
   "id": "3005975d",
   "metadata": {},
   "source": [
    "E. Displaying the dimensions of the dataset"
   ]
  },
  {
   "cell_type": "code",
   "execution_count": 8,
   "id": "999c65fc",
   "metadata": {
    "tags": []
   },
   "outputs": [
    {
     "data": {
      "text/plain": [
       "(604, 11)"
      ]
     },
     "execution_count": 8,
     "metadata": {},
     "output_type": "execute_result"
    }
   ],
   "source": [
    "df.shape"
   ]
  },
  {
   "cell_type": "markdown",
   "id": "6611a2b2",
   "metadata": {},
   "source": [
    "F. Displaying the last 10 rows of the dataset"
   ]
  },
  {
   "cell_type": "code",
   "execution_count": 9,
   "id": "03961772",
   "metadata": {
    "tags": []
   },
   "outputs": [
    {
     "data": {
      "text/html": [
       "<div>\n",
       "<style scoped>\n",
       "    .dataframe tbody tr th:only-of-type {\n",
       "        vertical-align: middle;\n",
       "    }\n",
       "\n",
       "    .dataframe tbody tr th {\n",
       "        vertical-align: top;\n",
       "    }\n",
       "\n",
       "    .dataframe thead th {\n",
       "        text-align: right;\n",
       "    }\n",
       "</style>\n",
       "<table border=\"1\" class=\"dataframe\">\n",
       "  <thead>\n",
       "    <tr style=\"text-align: right;\">\n",
       "      <th></th>\n",
       "      <th>SL-NO</th>\n",
       "      <th>Name</th>\n",
       "      <th>Industry</th>\n",
       "      <th>Founded</th>\n",
       "      <th>Headquarters</th>\n",
       "      <th>Country</th>\n",
       "      <th>CEO</th>\n",
       "      <th>Employees</th>\n",
       "      <th>Revenue</th>\n",
       "      <th>Assets</th>\n",
       "      <th>Profits</th>\n",
       "    </tr>\n",
       "  </thead>\n",
       "  <tbody>\n",
       "    <tr>\n",
       "      <th>594</th>\n",
       "      <td>595</td>\n",
       "      <td>Ford Motor</td>\n",
       "      <td>Automotive (Automotive and Suppliers)</td>\n",
       "      <td>1903.0</td>\n",
       "      <td>Dearborn, Michigan</td>\n",
       "      <td>United States</td>\n",
       "      <td>James D. Farley Jr.</td>\n",
       "      <td>173000.0</td>\n",
       "      <td>$165.1B</td>\n",
       "      <td>$256.8B</td>\n",
       "      <td>$2.9B</td>\n",
       "    </tr>\n",
       "    <tr>\n",
       "      <th>595</th>\n",
       "      <td>596</td>\n",
       "      <td>Santander</td>\n",
       "      <td>Banking and Financial Services</td>\n",
       "      <td>1970.0</td>\n",
       "      <td>Madrid</td>\n",
       "      <td>Spain</td>\n",
       "      <td>Tim Wennes</td>\n",
       "      <td>7351.0</td>\n",
       "      <td>$87.7B</td>\n",
       "      <td>$1.9T</td>\n",
       "      <td>$10.1B</td>\n",
       "    </tr>\n",
       "    <tr>\n",
       "      <th>596</th>\n",
       "      <td>597</td>\n",
       "      <td>Taiwan Semiconductor</td>\n",
       "      <td>Semiconductors</td>\n",
       "      <td>1987.0</td>\n",
       "      <td>Hsinchu</td>\n",
       "      <td>Taiwan</td>\n",
       "      <td>Che Chia Wei</td>\n",
       "      <td>65152.0</td>\n",
       "      <td>$75B</td>\n",
       "      <td>$165.7B</td>\n",
       "      <td>$33.6B</td>\n",
       "    </tr>\n",
       "    <tr>\n",
       "      <th>597</th>\n",
       "      <td>598</td>\n",
       "      <td>Sony</td>\n",
       "      <td>Semiconductors, Electronics, Electrical Engine...</td>\n",
       "      <td>1946.0</td>\n",
       "      <td>Tokyo</td>\n",
       "      <td>Japan</td>\n",
       "      <td>Kenichiro Yoshida</td>\n",
       "      <td>108900.0</td>\n",
       "      <td>$85.2B</td>\n",
       "      <td>$240.7B</td>\n",
       "      <td>$6.9B</td>\n",
       "    </tr>\n",
       "    <tr>\n",
       "      <th>598</th>\n",
       "      <td>599</td>\n",
       "      <td>Industrial Bank</td>\n",
       "      <td>Banking</td>\n",
       "      <td>1988.0</td>\n",
       "      <td>Fuzhou</td>\n",
       "      <td>China</td>\n",
       "      <td>NaN</td>\n",
       "      <td>63853.0</td>\n",
       "      <td>$59.1B</td>\n",
       "      <td>$1.4T</td>\n",
       "      <td>$13B</td>\n",
       "    </tr>\n",
       "    <tr>\n",
       "      <th>599</th>\n",
       "      <td>600</td>\n",
       "      <td>TD</td>\n",
       "      <td>Banking</td>\n",
       "      <td>1855.0</td>\n",
       "      <td>Toronto, Ontario</td>\n",
       "      <td>Canada</td>\n",
       "      <td>NaN</td>\n",
       "      <td>90000.0</td>\n",
       "      <td>NaN</td>\n",
       "      <td>NaN</td>\n",
       "      <td>NaN</td>\n",
       "    </tr>\n",
       "    <tr>\n",
       "      <th>600</th>\n",
       "      <td>601</td>\n",
       "      <td>Reliance Industries</td>\n",
       "      <td>Oil &amp; Gas Operations</td>\n",
       "      <td>1973.0</td>\n",
       "      <td>Mumbai</td>\n",
       "      <td>India</td>\n",
       "      <td>Mukesh Dhirubhai Ambani</td>\n",
       "      <td>236334.0</td>\n",
       "      <td>$109.4B</td>\n",
       "      <td>$208.5B</td>\n",
       "      <td>$8.3B</td>\n",
       "    </tr>\n",
       "    <tr>\n",
       "      <th>601</th>\n",
       "      <td>602</td>\n",
       "      <td>Nippon Telegraph &amp; Tel</td>\n",
       "      <td>Telecommunications Services</td>\n",
       "      <td>1952.0</td>\n",
       "      <td>Tokyo</td>\n",
       "      <td>Japan</td>\n",
       "      <td>Jun Sawada</td>\n",
       "      <td>333840.0</td>\n",
       "      <td>$97.4B</td>\n",
       "      <td>$190.7B</td>\n",
       "      <td>$9B</td>\n",
       "    </tr>\n",
       "    <tr>\n",
       "      <th>602</th>\n",
       "      <td>603</td>\n",
       "      <td>Intel</td>\n",
       "      <td>Semiconductors, Electronics, Electrical Engine...</td>\n",
       "      <td>1968.0</td>\n",
       "      <td>Santa Clara, California</td>\n",
       "      <td>United States</td>\n",
       "      <td>Patrick P. Gelsinger</td>\n",
       "      <td>131900.0</td>\n",
       "      <td>$56.4B</td>\n",
       "      <td>$185.3B</td>\n",
       "      <td>-$2.9B</td>\n",
       "    </tr>\n",
       "    <tr>\n",
       "      <th>603</th>\n",
       "      <td>604</td>\n",
       "      <td>BP</td>\n",
       "      <td>Construction, Oil &amp; Gas Operations, Mining and...</td>\n",
       "      <td>1909.0</td>\n",
       "      <td>London</td>\n",
       "      <td>United Kingdom</td>\n",
       "      <td>Bernard Looney</td>\n",
       "      <td>67600.0</td>\n",
       "      <td>$248.1B</td>\n",
       "      <td>$278.7B</td>\n",
       "      <td>$25.9B</td>\n",
       "    </tr>\n",
       "  </tbody>\n",
       "</table>\n",
       "</div>"
      ],
      "text/plain": [
       "     SL-NO                    Name  \\\n",
       "594    595              Ford Motor   \n",
       "595    596               Santander   \n",
       "596    597    Taiwan Semiconductor   \n",
       "597    598                    Sony   \n",
       "598    599         Industrial Bank   \n",
       "599    600                      TD   \n",
       "600    601     Reliance Industries   \n",
       "601    602  Nippon Telegraph & Tel   \n",
       "602    603                   Intel   \n",
       "603    604                      BP   \n",
       "\n",
       "                                              Industry  Founded  \\\n",
       "594              Automotive (Automotive and Suppliers)   1903.0   \n",
       "595                     Banking and Financial Services   1970.0   \n",
       "596                                     Semiconductors   1987.0   \n",
       "597  Semiconductors, Electronics, Electrical Engine...   1946.0   \n",
       "598                                            Banking   1988.0   \n",
       "599                                            Banking   1855.0   \n",
       "600                               Oil & Gas Operations   1973.0   \n",
       "601                        Telecommunications Services   1952.0   \n",
       "602  Semiconductors, Electronics, Electrical Engine...   1968.0   \n",
       "603  Construction, Oil & Gas Operations, Mining and...   1909.0   \n",
       "\n",
       "                Headquarters         Country                      CEO  \\\n",
       "594       Dearborn, Michigan   United States      James D. Farley Jr.   \n",
       "595                   Madrid           Spain               Tim Wennes   \n",
       "596                  Hsinchu          Taiwan             Che Chia Wei   \n",
       "597                    Tokyo           Japan        Kenichiro Yoshida   \n",
       "598                   Fuzhou           China                      NaN   \n",
       "599         Toronto, Ontario          Canada                      NaN   \n",
       "600                   Mumbai           India  Mukesh Dhirubhai Ambani   \n",
       "601                    Tokyo           Japan               Jun Sawada   \n",
       "602  Santa Clara, California   United States     Patrick P. Gelsinger   \n",
       "603                   London  United Kingdom           Bernard Looney   \n",
       "\n",
       "     Employees  Revenue   Assets Profits  \n",
       "594   173000.0  $165.1B  $256.8B   $2.9B  \n",
       "595     7351.0   $87.7B    $1.9T  $10.1B  \n",
       "596    65152.0     $75B  $165.7B  $33.6B  \n",
       "597   108900.0   $85.2B  $240.7B   $6.9B  \n",
       "598    63853.0   $59.1B    $1.4T    $13B  \n",
       "599    90000.0      NaN      NaN     NaN  \n",
       "600   236334.0  $109.4B  $208.5B   $8.3B  \n",
       "601   333840.0   $97.4B  $190.7B     $9B  \n",
       "602   131900.0   $56.4B  $185.3B  -$2.9B  \n",
       "603    67600.0  $248.1B  $278.7B  $25.9B  "
      ]
     },
     "execution_count": 9,
     "metadata": {},
     "output_type": "execute_result"
    }
   ],
   "source": [
    "df.tail(10)"
   ]
  },
  {
   "cell_type": "markdown",
   "id": "e0272cb8",
   "metadata": {},
   "source": [
    "G. Getting the Data Information"
   ]
  },
  {
   "cell_type": "code",
   "execution_count": 10,
   "id": "b8dc8285",
   "metadata": {
    "tags": []
   },
   "outputs": [
    {
     "name": "stdout",
     "output_type": "stream",
     "text": [
      "<class 'pandas.core.frame.DataFrame'>\n",
      "RangeIndex: 604 entries, 0 to 603\n",
      "Data columns (total 11 columns):\n",
      " #   Column        Non-Null Count  Dtype  \n",
      "---  ------        --------------  -----  \n",
      " 0   SL-NO         604 non-null    int64  \n",
      " 1   Name          604 non-null    object \n",
      " 2   Industry      596 non-null    object \n",
      " 3   Founded       596 non-null    float64\n",
      " 4   Headquarters  588 non-null    object \n",
      " 5   Country       596 non-null    object \n",
      " 6   CEO           536 non-null    object \n",
      " 7   Employees     584 non-null    float64\n",
      " 8   Revenue       588 non-null    object \n",
      " 9   Assets        588 non-null    object \n",
      " 10  Profits       588 non-null    object \n",
      "dtypes: float64(2), int64(1), object(8)\n",
      "memory usage: 52.0+ KB\n"
     ]
    }
   ],
   "source": [
    "df.info()"
   ]
  },
  {
   "cell_type": "markdown",
   "id": "8b2c799e",
   "metadata": {},
   "source": [
    "H. Summary Statistics of the dataset"
   ]
  },
  {
   "cell_type": "code",
   "execution_count": 11,
   "id": "14ed0093",
   "metadata": {
    "tags": []
   },
   "outputs": [
    {
     "data": {
      "text/html": [
       "<div>\n",
       "<style scoped>\n",
       "    .dataframe tbody tr th:only-of-type {\n",
       "        vertical-align: middle;\n",
       "    }\n",
       "\n",
       "    .dataframe tbody tr th {\n",
       "        vertical-align: top;\n",
       "    }\n",
       "\n",
       "    .dataframe thead th {\n",
       "        text-align: right;\n",
       "    }\n",
       "</style>\n",
       "<table border=\"1\" class=\"dataframe\">\n",
       "  <thead>\n",
       "    <tr style=\"text-align: right;\">\n",
       "      <th></th>\n",
       "      <th>SL-NO</th>\n",
       "      <th>Founded</th>\n",
       "      <th>Employees</th>\n",
       "    </tr>\n",
       "  </thead>\n",
       "  <tbody>\n",
       "    <tr>\n",
       "      <th>count</th>\n",
       "      <td>604.000000</td>\n",
       "      <td>596.000000</td>\n",
       "      <td>584.000000</td>\n",
       "    </tr>\n",
       "    <tr>\n",
       "      <th>mean</th>\n",
       "      <td>302.500000</td>\n",
       "      <td>1937.604027</td>\n",
       "      <td>115973.575342</td>\n",
       "    </tr>\n",
       "    <tr>\n",
       "      <th>std</th>\n",
       "      <td>174.504059</td>\n",
       "      <td>57.405392</td>\n",
       "      <td>121541.903026</td>\n",
       "    </tr>\n",
       "    <tr>\n",
       "      <th>min</th>\n",
       "      <td>1.000000</td>\n",
       "      <td>1736.000000</td>\n",
       "      <td>195.000000</td>\n",
       "    </tr>\n",
       "    <tr>\n",
       "      <th>25%</th>\n",
       "      <td>151.750000</td>\n",
       "      <td>1897.000000</td>\n",
       "      <td>42560.000000</td>\n",
       "    </tr>\n",
       "    <tr>\n",
       "      <th>50%</th>\n",
       "      <td>302.500000</td>\n",
       "      <td>1949.000000</td>\n",
       "      <td>78032.000000</td>\n",
       "    </tr>\n",
       "    <tr>\n",
       "      <th>75%</th>\n",
       "      <td>453.250000</td>\n",
       "      <td>1987.000000</td>\n",
       "      <td>132000.000000</td>\n",
       "    </tr>\n",
       "    <tr>\n",
       "      <th>max</th>\n",
       "      <td>604.000000</td>\n",
       "      <td>2021.000000</td>\n",
       "      <td>732000.000000</td>\n",
       "    </tr>\n",
       "  </tbody>\n",
       "</table>\n",
       "</div>"
      ],
      "text/plain": [
       "            SL-NO      Founded      Employees\n",
       "count  604.000000   596.000000     584.000000\n",
       "mean   302.500000  1937.604027  115973.575342\n",
       "std    174.504059    57.405392  121541.903026\n",
       "min      1.000000  1736.000000     195.000000\n",
       "25%    151.750000  1897.000000   42560.000000\n",
       "50%    302.500000  1949.000000   78032.000000\n",
       "75%    453.250000  1987.000000  132000.000000\n",
       "max    604.000000  2021.000000  732000.000000"
      ]
     },
     "execution_count": 11,
     "metadata": {},
     "output_type": "execute_result"
    }
   ],
   "source": [
    "df.describe()"
   ]
  },
  {
   "cell_type": "markdown",
   "id": "1a850d67",
   "metadata": {},
   "source": [
    "I. Datatypes of each column"
   ]
  },
  {
   "cell_type": "code",
   "execution_count": 12,
   "id": "7c38b217",
   "metadata": {
    "tags": []
   },
   "outputs": [
    {
     "data": {
      "text/plain": [
       "SL-NO             int64\n",
       "Name             object\n",
       "Industry         object\n",
       "Founded         float64\n",
       "Headquarters     object\n",
       "Country          object\n",
       "CEO              object\n",
       "Employees       float64\n",
       "Revenue          object\n",
       "Assets           object\n",
       "Profits          object\n",
       "dtype: object"
      ]
     },
     "execution_count": 12,
     "metadata": {},
     "output_type": "execute_result"
    }
   ],
   "source": [
    "df.dtypes"
   ]
  },
  {
   "cell_type": "markdown",
   "id": "ded8b96e",
   "metadata": {},
   "source": [
    "J. Getting columns of a dataset"
   ]
  },
  {
   "cell_type": "code",
   "execution_count": 13,
   "id": "75a5437c",
   "metadata": {
    "tags": []
   },
   "outputs": [
    {
     "data": {
      "text/plain": [
       "Index(['SL-NO', 'Name', 'Industry', 'Founded', 'Headquarters', 'Country',\n",
       "       'CEO', 'Employees', 'Revenue', 'Assets'],\n",
       "      dtype='object')"
      ]
     },
     "execution_count": 13,
     "metadata": {},
     "output_type": "execute_result"
    }
   ],
   "source": [
    "df.columns[0:10]"
   ]
  },
  {
   "cell_type": "markdown",
   "id": "35225467",
   "metadata": {},
   "source": [
    "K. Unique values in each columns"
   ]
  },
  {
   "cell_type": "code",
   "execution_count": 14,
   "id": "94c09ec6",
   "metadata": {
    "tags": []
   },
   "outputs": [
    {
     "data": {
      "text/plain": [
       "SL-NO           604\n",
       "Name            151\n",
       "Industry         35\n",
       "Founded         103\n",
       "Headquarters     89\n",
       "Country          24\n",
       "CEO             134\n",
       "Employees       141\n",
       "Revenue         138\n",
       "Assets          138\n",
       "Profits         100\n",
       "dtype: int64"
      ]
     },
     "execution_count": 14,
     "metadata": {},
     "output_type": "execute_result"
    }
   ],
   "source": [
    "df.nunique()"
   ]
  },
  {
   "cell_type": "markdown",
   "id": "3fee9750",
   "metadata": {},
   "source": [
    "L. Visualizing Data"
   ]
  },
  {
   "cell_type": "code",
   "execution_count": 15,
   "id": "42a36c53",
   "metadata": {
    "tags": []
   },
   "outputs": [
    {
     "data": {
      "image/png": "[encoded data removed]",
      "text/plain": [
       "<Figure size 640x480 with 1 Axes>"
      ]
     },
     "metadata": {},
     "output_type": "display_data"
    }
   ],
   "source": [
    "sns.histplot(df,bins = 4, color = 'black',kde = False)\n",
    "plt.xlabel(\"Total\")\n",
    "plt.ylabel(\"Count\")\n",
    "plt.show()"
   ]
  },
  {
   "cell_type": "code",
   "execution_count": 16,
   "id": "7989818a",
   "metadata": {
    "tags": []
   },
   "outputs": [
    {
     "data": {
      "image/png": "[encoded data removed]",
      "text/plain": [
       "<Figure size 640x480 with 1 Axes>"
      ]
     },
     "metadata": {},
     "output_type": "display_data"
    }
   ],
   "source": [
    "df.head().plot.bar(x='Founded',y ='Employees',title='Bar Chart')\n",
    "plt.show()"
   ]
  },
  {
   "cell_type": "code",
   "execution_count": 19,
   "id": "5ca08c99",
   "metadata": {
    "tags": []
   },
   "outputs": [
    {
     "data": {
      "image/png": "[encoded data removed]",
      "text/plain": [
       "<Figure size 640x480 with 1 Axes>"
      ]
     },
     "metadata": {},
     "output_type": "display_data"
    }
   ],
   "source": [
    "Founded = [1975,1981,1984,1924,1897,2013,2021,2001,2003,2007,2008,2004]\n",
    "Employees = [56031,35558,131817,104150,37800,82061,272367,42560,52420,105848,171474,91573]\n",
    "\n",
    "plt.scatter(Founded,Employees)\n",
    "plt.xlabel('Founded')\n",
    "plt.ylabel('Employees')\n",
    "plt.title('Scatter PLot')\n",
    "plt.show()"
   ]
  },
  {
   "cell_type": "code",
   "execution_count": 20,
   "id": "e13fdb7f",
   "metadata": {
    "scrolled": true,
    "tags": []
   },
   "outputs": [
    {
     "data": {
      "image/png": "[encoded data removed]",
      "text/plain": [
       "<Figure size 800x400 with 1 Axes>"
      ]
     },
     "metadata": {},
     "output_type": "display_data"
    }
   ],
   "source": [
    "Founded = [1975,1981,1984,1924,1897,2013,2021,2001,2003,2007,2008,2004]\n",
    "Employees = [56031,35558,131817,104150,37800,82061,272367,42560,52420,105848,171474,91573]\n",
    "Revenue = [8.7,26.3,75.6,42,53.5,91.8,188.7,9.8,32,36.4,98.7,52]\n",
    "\n",
    "data = [Founded,Employees,Revenue]\n",
    "fig = plt.figure(figsize = (8,4))\n",
    "ax = fig.add_axes([0, 0, 1, 1])\n",
    "bp = ax.boxplot(data)\n",
    "plt.show()"
   ]
  },
  {
   "cell_type": "code",
   "execution_count": 18,
   "id": "25526cb4",
   "metadata": {
    "tags": []
   },
   "outputs": [
    {
     "data": {
      "image/png": "[encoded data removed]",
      "text/plain": [
       "<Figure size 640x480 with 1 Axes>"
      ]
     },
     "metadata": {},
     "output_type": "display_data"
    }
   ],
   "source": [
    "df.head(10).plot.pie(x='Founded',y ='Employees',title='PIE Chart')\n",
    "plt.show()"
   ]
  },
  {
   "cell_type": "markdown",
   "id": "c4cc66e8",
   "metadata": {},
   "source": [
    "STEP 4: DATA CLEANING"
   ]
  },
  {
   "cell_type": "markdown",
   "id": "ff5b504f",
   "metadata": {},
   "source": [
    "A. Handling Missing Data"
   ]
  },
  {
   "cell_type": "code",
   "execution_count": 19,
   "id": "84395198",
   "metadata": {
    "tags": []
   },
   "outputs": [
    {
     "data": {
      "text/plain": [
       "SL-NO            0\n",
       "Name             0\n",
       "Industry         8\n",
       "Founded          8\n",
       "Headquarters    16\n",
       "Country          8\n",
       "CEO             68\n",
       "Employees       20\n",
       "Revenue         16\n",
       "Assets          16\n",
       "Profits         16\n",
       "dtype: int64"
      ]
     },
     "execution_count": 19,
     "metadata": {},
     "output_type": "execute_result"
    }
   ],
   "source": [
    "df.isnull().sum()"
   ]
  },
  {
   "cell_type": "code",
   "execution_count": 20,
   "id": "a15d43ed",
   "metadata": {
    "tags": []
   },
   "outputs": [
    {
     "name": "stdout",
     "output_type": "stream",
     "text": [
      "['SL-NO', 'Name', 'Industry', 'Founded', 'Headquarters', 'Country', 'CEO', 'Employees', 'Revenue', 'Assets', 'Profits']\n"
     ]
    }
   ],
   "source": [
    "print(df.columns.tolist())"
   ]
  },
  {
   "cell_type": "code",
   "execution_count": 21,
   "id": "29900613",
   "metadata": {
    "scrolled": true,
    "tags": []
   },
   "outputs": [
    {
     "data": {
      "text/plain": [
       "SL-NO            0\n",
       "Name             0\n",
       "Industry         8\n",
       "Founded          8\n",
       "Headquarters    16\n",
       "Country          8\n",
       "CEO             68\n",
       "Employees        0\n",
       "Revenue         16\n",
       "Assets          16\n",
       "Profits         16\n",
       "dtype: int64"
      ]
     },
     "execution_count": 21,
     "metadata": {},
     "output_type": "execute_result"
    }
   ],
   "source": [
    "mean1 = df['Employees'].mean()\n",
    "df['Employees']=df['Employees'].replace(np.nan,mean1)\n",
    "df.isnull().sum()"
   ]
  },
  {
   "cell_type": "code",
   "execution_count": 22,
   "id": "2f24a12c",
   "metadata": {
    "tags": []
   },
   "outputs": [
    {
     "data": {
      "text/plain": [
       "'Banking'"
      ]
     },
     "execution_count": 22,
     "metadata": {},
     "output_type": "execute_result"
    }
   ],
   "source": [
    "mode = df['Industry'].mode()[0]\n",
    "mode"
   ]
  },
  {
   "cell_type": "code",
   "execution_count": 23,
   "id": "c3919bd8",
   "metadata": {
    "tags": []
   },
   "outputs": [],
   "source": [
    "df['Industry'].replace(np.nan,mode,inplace = True)"
   ]
  },
  {
   "cell_type": "code",
   "execution_count": 24,
   "id": "822700ec",
   "metadata": {
    "tags": []
   },
   "outputs": [
    {
     "data": {
      "text/plain": [
       "0"
      ]
     },
     "execution_count": 24,
     "metadata": {},
     "output_type": "execute_result"
    }
   ],
   "source": [
    "df['Industry'].isnull().sum()"
   ]
  },
  {
   "cell_type": "code",
   "execution_count": 25,
   "id": "22b72803",
   "metadata": {
    "scrolled": true,
    "tags": []
   },
   "outputs": [
    {
     "data": {
      "text/plain": [
       "SL-NO            0\n",
       "Name             0\n",
       "Industry         0\n",
       "Founded          8\n",
       "Headquarters    16\n",
       "Country          8\n",
       "CEO             68\n",
       "Employees        0\n",
       "Revenue         16\n",
       "Assets          16\n",
       "Profits         16\n",
       "dtype: int64"
      ]
     },
     "execution_count": 25,
     "metadata": {},
     "output_type": "execute_result"
    }
   ],
   "source": [
    "df.isnull().sum()"
   ]
  },
  {
   "cell_type": "code",
   "execution_count": 26,
   "id": "9ded7286",
   "metadata": {
    "tags": []
   },
   "outputs": [
    {
     "data": {
      "text/plain": [
       "SL-NO            0\n",
       "Name             0\n",
       "Industry         0\n",
       "Founded          0\n",
       "Headquarters    16\n",
       "Country          8\n",
       "CEO             68\n",
       "Employees        0\n",
       "Revenue         16\n",
       "Assets          16\n",
       "Profits         16\n",
       "dtype: int64"
      ]
     },
     "execution_count": 26,
     "metadata": {},
     "output_type": "execute_result"
    }
   ],
   "source": [
    "median2 = df['Founded'].median()\n",
    "df['Founded']=df['Founded'].replace(np.nan,median2)\n",
    "df.isnull().sum()"
   ]
  },
  {
   "cell_type": "code",
   "execution_count": 27,
   "id": "fb579c09",
   "metadata": {
    "tags": []
   },
   "outputs": [
    {
     "data": {
      "text/plain": [
       "'Tokyo'"
      ]
     },
     "execution_count": 27,
     "metadata": {},
     "output_type": "execute_result"
    }
   ],
   "source": [
    "mode1 = df['Headquarters'].mode()[0]\n",
    "mode1"
   ]
  },
  {
   "cell_type": "code",
   "execution_count": 28,
   "id": "cf8457c5",
   "metadata": {
    "tags": []
   },
   "outputs": [],
   "source": [
    "df['Headquarters'].replace(np.nan,mode1,inplace = True)"
   ]
  },
  {
   "cell_type": "code",
   "execution_count": 29,
   "id": "84947ad9",
   "metadata": {
    "tags": []
   },
   "outputs": [
    {
     "data": {
      "text/plain": [
       "0"
      ]
     },
     "execution_count": 29,
     "metadata": {},
     "output_type": "execute_result"
    }
   ],
   "source": [
    "df['Headquarters'].isnull().sum()"
   ]
  },
  {
   "cell_type": "code",
   "execution_count": 30,
   "id": "a7529c5f",
   "metadata": {
    "tags": []
   },
   "outputs": [
    {
     "data": {
      "text/plain": [
       "0"
      ]
     },
     "execution_count": 30,
     "metadata": {},
     "output_type": "execute_result"
    }
   ],
   "source": [
    "mode2 = df['Country'].mode()[0]\n",
    "df['Country'].replace(np.nan,mode2,inplace = True)\n",
    "df['Country'].isnull().sum()"
   ]
  },
  {
   "cell_type": "code",
   "execution_count": 31,
   "id": "869f3a56",
   "metadata": {
    "tags": []
   },
   "outputs": [
    {
     "data": {
      "text/plain": [
       "0"
      ]
     },
     "execution_count": 31,
     "metadata": {},
     "output_type": "execute_result"
    }
   ],
   "source": [
    "mode3 = df['CEO'].mode()[0]\n",
    "df['CEO'].replace(np.nan,mode3,inplace = True)\n",
    "df['CEO'].isnull().sum()"
   ]
  },
  {
   "cell_type": "code",
   "execution_count": 32,
   "id": "5080baf4",
   "metadata": {
    "tags": []
   },
   "outputs": [],
   "source": [
    "df['Revenue'].fillna(method='ffill', inplace=True)"
   ]
  },
  {
   "cell_type": "code",
   "execution_count": 33,
   "id": "bb752a3d",
   "metadata": {
    "tags": []
   },
   "outputs": [
    {
     "data": {
      "text/plain": [
       "0"
      ]
     },
     "execution_count": 33,
     "metadata": {},
     "output_type": "execute_result"
    }
   ],
   "source": [
    "df['Revenue'].isnull().sum()"
   ]
  },
  {
   "cell_type": "code",
   "execution_count": 34,
   "id": "fac7acdd",
   "metadata": {
    "tags": []
   },
   "outputs": [
    {
     "data": {
      "text/plain": [
       "0"
      ]
     },
     "execution_count": 34,
     "metadata": {},
     "output_type": "execute_result"
    }
   ],
   "source": [
    "df['Assets'].fillna(method='ffill', inplace=True)\n",
    "df['Assets'].isnull().sum()"
   ]
  },
  {
   "cell_type": "code",
   "execution_count": 35,
   "id": "79906a9a",
   "metadata": {
    "tags": []
   },
   "outputs": [
    {
     "data": {
      "text/plain": [
       "0"
      ]
     },
     "execution_count": 35,
     "metadata": {},
     "output_type": "execute_result"
    }
   ],
   "source": [
    "df['Profits'].fillna(method='bfill', inplace=True)\n",
    "df['Profits'].isnull().sum()"
   ]
  },
  {
   "cell_type": "code",
   "execution_count": 36,
   "id": "3312e9b2",
   "metadata": {
    "tags": []
   },
   "outputs": [
    {
     "data": {
      "text/plain": [
       "SL-NO           0\n",
       "Name            0\n",
       "Industry        0\n",
       "Founded         0\n",
       "Headquarters    0\n",
       "Country         0\n",
       "CEO             0\n",
       "Employees       0\n",
       "Revenue         0\n",
       "Assets          0\n",
       "Profits         0\n",
       "dtype: int64"
      ]
     },
     "execution_count": 36,
     "metadata": {},
     "output_type": "execute_result"
    }
   ],
   "source": [
    "df.isnull().sum()"
   ]
  },
  {
   "cell_type": "markdown",
   "id": "dd3d5407",
   "metadata": {},
   "source": [
    "B. Checking Dupicated rows"
   ]
  },
  {
   "cell_type": "code",
   "execution_count": 37,
   "id": "c9bb3b26",
   "metadata": {
    "tags": []
   },
   "outputs": [
    {
     "data": {
      "text/plain": [
       "False    604\n",
       "dtype: int64"
      ]
     },
     "execution_count": 37,
     "metadata": {},
     "output_type": "execute_result"
    }
   ],
   "source": [
    "df.duplicated().value_counts()"
   ]
  },
  {
   "cell_type": "markdown",
   "id": "95e55a0b",
   "metadata": {},
   "source": [
    "C. Detecting Outliers"
   ]
  },
  {
   "cell_type": "code",
   "execution_count": 38,
   "id": "38b518bf",
   "metadata": {
    "scrolled": true,
    "tags": []
   },
   "outputs": [
    {
     "data": {
      "image/png": "[encoded data removed]",
      "text/plain": [
       "<Figure size 640x480 with 1 Axes>"
      ]
     },
     "metadata": {},
     "output_type": "display_data"
    }
   ],
   "source": [
    "plt.boxplot(df['Founded'])\n",
    "plt.show()\n"
   ]
  },
  {
   "cell_type": "code",
   "execution_count": 39,
   "id": "118be3e9",
   "metadata": {
    "tags": []
   },
   "outputs": [],
   "source": [
    "Q1 = df['Founded'].quantile(0.25)\n",
    "Q3 = df['Founded'].quantile(0.75)\n",
    "IQR = Q3 - Q1\n",
    "lower_bound = Q1 - 1.5 * IQR\n",
    "upper_bound = Q3 + 1.5 * IQR\n",
    "outliers = df[(df['Founded'] < lower_bound) | (df['Founded'] > upper_bound)]"
   ]
  },
  {
   "cell_type": "code",
   "execution_count": 40,
   "id": "1ac2553f",
   "metadata": {
    "tags": []
   },
   "outputs": [
    {
     "data": {
      "text/html": [
       "<div>\n",
       "<style scoped>\n",
       "    .dataframe tbody tr th:only-of-type {\n",
       "        vertical-align: middle;\n",
       "    }\n",
       "\n",
       "    .dataframe tbody tr th {\n",
       "        vertical-align: top;\n",
       "    }\n",
       "\n",
       "    .dataframe thead th {\n",
       "        text-align: right;\n",
       "    }\n",
       "</style>\n",
       "<table border=\"1\" class=\"dataframe\">\n",
       "  <thead>\n",
       "    <tr style=\"text-align: right;\">\n",
       "      <th></th>\n",
       "      <th>SL-NO</th>\n",
       "      <th>Name</th>\n",
       "      <th>Industry</th>\n",
       "      <th>Founded</th>\n",
       "      <th>Headquarters</th>\n",
       "      <th>Country</th>\n",
       "      <th>CEO</th>\n",
       "      <th>Employees</th>\n",
       "      <th>Revenue</th>\n",
       "      <th>Assets</th>\n",
       "      <th>Profits</th>\n",
       "    </tr>\n",
       "  </thead>\n",
       "  <tbody>\n",
       "    <tr>\n",
       "      <th>45</th>\n",
       "      <td>46</td>\n",
       "      <td>Barclays</td>\n",
       "      <td>Banking and Financial Services</td>\n",
       "      <td>1736.0</td>\n",
       "      <td>London</td>\n",
       "      <td>United Kingdom</td>\n",
       "      <td>CS Venkatakrishnan</td>\n",
       "      <td>87400.0</td>\n",
       "      <td>$30.9B</td>\n",
       "      <td>$1.9T</td>\n",
       "      <td>$6.5B</td>\n",
       "    </tr>\n",
       "    <tr>\n",
       "      <th>196</th>\n",
       "      <td>197</td>\n",
       "      <td>Barclays</td>\n",
       "      <td>Banking and Financial Services</td>\n",
       "      <td>1736.0</td>\n",
       "      <td>London</td>\n",
       "      <td>United Kingdom</td>\n",
       "      <td>CS Venkatakrishnan</td>\n",
       "      <td>87400.0</td>\n",
       "      <td>$30.9B</td>\n",
       "      <td>$1.9T</td>\n",
       "      <td>$6.5B</td>\n",
       "    </tr>\n",
       "    <tr>\n",
       "      <th>347</th>\n",
       "      <td>348</td>\n",
       "      <td>Barclays</td>\n",
       "      <td>Banking and Financial Services</td>\n",
       "      <td>1736.0</td>\n",
       "      <td>London</td>\n",
       "      <td>United Kingdom</td>\n",
       "      <td>CS Venkatakrishnan</td>\n",
       "      <td>87400.0</td>\n",
       "      <td>$30.9B</td>\n",
       "      <td>$1.9T</td>\n",
       "      <td>$6.5B</td>\n",
       "    </tr>\n",
       "    <tr>\n",
       "      <th>498</th>\n",
       "      <td>499</td>\n",
       "      <td>Barclays</td>\n",
       "      <td>Banking and Financial Services</td>\n",
       "      <td>1736.0</td>\n",
       "      <td>London</td>\n",
       "      <td>United Kingdom</td>\n",
       "      <td>CS Venkatakrishnan</td>\n",
       "      <td>87400.0</td>\n",
       "      <td>$30.9B</td>\n",
       "      <td>$1.9T</td>\n",
       "      <td>$6.5B</td>\n",
       "    </tr>\n",
       "  </tbody>\n",
       "</table>\n",
       "</div>"
      ],
      "text/plain": [
       "     SL-NO      Name                        Industry  Founded Headquarters  \\\n",
       "45      46  Barclays  Banking and Financial Services   1736.0       London   \n",
       "196    197  Barclays  Banking and Financial Services   1736.0       London   \n",
       "347    348  Barclays  Banking and Financial Services   1736.0       London   \n",
       "498    499  Barclays  Banking and Financial Services   1736.0       London   \n",
       "\n",
       "            Country                 CEO  Employees Revenue Assets Profits  \n",
       "45   United Kingdom  CS Venkatakrishnan    87400.0  $30.9B  $1.9T   $6.5B  \n",
       "196  United Kingdom  CS Venkatakrishnan    87400.0  $30.9B  $1.9T   $6.5B  \n",
       "347  United Kingdom  CS Venkatakrishnan    87400.0  $30.9B  $1.9T   $6.5B  \n",
       "498  United Kingdom  CS Venkatakrishnan    87400.0  $30.9B  $1.9T   $6.5B  "
      ]
     },
     "execution_count": 40,
     "metadata": {},
     "output_type": "execute_result"
    }
   ],
   "source": [
    "outliers"
   ]
  },
  {
   "cell_type": "markdown",
   "id": "9ce93e86",
   "metadata": {},
   "source": [
    "D. Clipping the Outliers"
   ]
  },
  {
   "cell_type": "code",
   "execution_count": 41,
   "id": "42b9c625",
   "metadata": {
    "tags": []
   },
   "outputs": [
    {
     "data": {
      "text/plain": [
       "0      1975.0\n",
       "1      1981.0\n",
       "2      1984.0\n",
       "3      1924.0\n",
       "4      1897.0\n",
       "        ...  \n",
       "599    1855.0\n",
       "600    1973.0\n",
       "601    1952.0\n",
       "602    1968.0\n",
       "603    1909.0\n",
       "Name: Founded, Length: 604, dtype: float64"
      ]
     },
     "execution_count": 41,
     "metadata": {},
     "output_type": "execute_result"
    }
   ],
   "source": [
    "df['Founded'] = df['Founded'].clip(lower=lower_bound, upper=upper_bound)\n",
    "df['Founded']"
   ]
  },
  {
   "cell_type": "code",
   "execution_count": 42,
   "id": "2ad91458",
   "metadata": {
    "tags": []
   },
   "outputs": [
    {
     "data": {
      "image/png": "[encoded data removed]",
      "text/plain": [
       "<Figure size 640x480 with 1 Axes>"
      ]
     },
     "metadata": {},
     "output_type": "display_data"
    }
   ],
   "source": [
    "plt.boxplot(df['Founded'])\n",
    "plt.show()"
   ]
  },
  {
   "cell_type": "markdown",
   "id": "d1583aa3",
   "metadata": {},
   "source": [
    "E. One-Hot Encoding"
   ]
  },
  {
   "cell_type": "code",
   "execution_count": 43,
   "id": "1f977cca",
   "metadata": {
    "tags": []
   },
   "outputs": [
    {
     "name": "stdout",
     "output_type": "stream",
     "text": [
      "   SL-NO                           Name  Founded          Headquarters  \\\n",
      "0      1               Cathay Financial   1975.0                Taipei   \n",
      "1      2  NAB - National Australia Bank   1981.0             Melbourne   \n",
      "2      3                    China Vanke   1984.0              Shenzhen   \n",
      "3      4                     Telefónica   1924.0                Madrid   \n",
      "4      5                            Dow   1897.0     Midland, Michigan   \n",
      "5      6                 HCA Healthcare   1968.0  Nashville, Tennessee   \n",
      "6      7             China Telecom Corp   1949.0                 Tokyo   \n",
      "7      8                Fubon Financial   2001.0                Taipei   \n",
      "8      9                            ANZ   1835.0             Docklands   \n",
      "9     10              Micron Technology   1978.0          Boise, Idaho   \n",
      "\n",
      "         Country                               CEO      Employees Revenue  \\\n",
      "0         Taiwan                   , Tomonari Sato   56031.000000   $8.7B   \n",
      "1      Australia               Ross Maxwell McEwan   35558.000000  $26.3B   \n",
      "2          China                     Jiu Sheng Zhu  131817.000000  $75.6B   \n",
      "3          Spain  José María Álvarez-Pallete López  104150.000000    $42B   \n",
      "4  United States                    Jim Fitterling   37800.000000  $53.5B   \n",
      "5  United States                   Samuel N. Hazen  275000.000000  $60.9B   \n",
      "6  United States                   , Tomonari Sato  115973.575342  $60.9B   \n",
      "7         Taiwan                      Yue Ting Han   42560.000000   $9.8B   \n",
      "8      Australia               Shayne Cary Elliott   39196.000000  $28.3B   \n",
      "9  United States                   Sanjay Mehrotra   40000.000000  $23.1B   \n",
      "\n",
      "    Assets Profits  Industry_Banking  Industry_Construction  \\\n",
      "0  $392.3B   $1.3B                 0                      0   \n",
      "1  $702.1B     $5B                 1                      0   \n",
      "2  $253.7B   $3.3B                 0                      1   \n",
      "3    $117B   $2.1B                 0                      0   \n",
      "4   $59.3B   $2.9B                 0                      0   \n",
      "5   $52.7B   $5.7B                 0                      0   \n",
      "6   $52.7B   $471M                 1                      0   \n",
      "7  $349.1B   $471M                 0                      0   \n",
      "8  $744.2B   $4.9B                 1                      0   \n",
      "9   $66.5B   $1.6B                 0                      0   \n",
      "\n",
      "   Industry_Construction, Oil & Gas Operations, Mining and Chemicals  \\\n",
      "0                                                  0                   \n",
      "1                                                  0                   \n",
      "2                                                  0                   \n",
      "3                                                  0                   \n",
      "4                                                  1                   \n",
      "5                                                  0                   \n",
      "6                                                  0                   \n",
      "7                                                  0                   \n",
      "8                                                  0                   \n",
      "9                                                  0                   \n",
      "\n",
      "   Industry_Healthcare & Social  Industry_Insurance  \\\n",
      "0                             0                   1   \n",
      "1                             0                   0   \n",
      "2                             0                   0   \n",
      "3                             0                   0   \n",
      "4                             0                   0   \n",
      "5                             1                   0   \n",
      "6                             0                   0   \n",
      "7                             0                   1   \n",
      "8                             0                   0   \n",
      "9                             0                   0   \n",
      "\n",
      "   Industry_Semiconductors, Electronics, Electrical Engineering, Technology Hardware & Equipment  \\\n",
      "0                                                  0                                               \n",
      "1                                                  0                                               \n",
      "2                                                  0                                               \n",
      "3                                                  0                                               \n",
      "4                                                  0                                               \n",
      "5                                                  0                                               \n",
      "6                                                  0                                               \n",
      "7                                                  0                                               \n",
      "8                                                  0                                               \n",
      "9                                                  1                                               \n",
      "\n",
      "   Industry_Telecommunications Services  \n",
      "0                                     0  \n",
      "1                                     0  \n",
      "2                                     0  \n",
      "3                                     1  \n",
      "4                                     0  \n",
      "5                                     0  \n",
      "6                                     0  \n",
      "7                                     0  \n",
      "8                                     0  \n",
      "9                                     0  \n"
     ]
    }
   ],
   "source": [
    "df_encoded = pd.get_dummies(df.head(10), columns=['Industry'], prefix=['Industry'])\n",
    "print(df_encoded)\n"
   ]
  },
  {
   "cell_type": "code",
   "execution_count": 44,
   "id": "00fb2597",
   "metadata": {
    "tags": []
   },
   "outputs": [
    {
     "name": "stdout",
     "output_type": "stream",
     "text": [
      "   SL-NO                           Name  \\\n",
      "0      1               Cathay Financial   \n",
      "1      2  NAB - National Australia Bank   \n",
      "2      3                    China Vanke   \n",
      "3      4                     Telefónica   \n",
      "4      5                            Dow   \n",
      "5      6                 HCA Healthcare   \n",
      "6      7             China Telecom Corp   \n",
      "7      8                Fubon Financial   \n",
      "8      9                            ANZ   \n",
      "9     10              Micron Technology   \n",
      "\n",
      "                                            Industry  Founded  \\\n",
      "0                                          Insurance   1975.0   \n",
      "1                                            Banking   1981.0   \n",
      "2                                       Construction   1984.0   \n",
      "3                        Telecommunications Services   1924.0   \n",
      "4  Construction, Oil & Gas Operations, Mining and...   1897.0   \n",
      "5                                Healthcare & Social   1968.0   \n",
      "6                                            Banking   1949.0   \n",
      "7                                          Insurance   2001.0   \n",
      "8                                            Banking   1835.0   \n",
      "9  Semiconductors, Electronics, Electrical Engine...   1978.0   \n",
      "\n",
      "           Headquarters                               CEO      Employees  \\\n",
      "0                Taipei                   , Tomonari Sato   56031.000000   \n",
      "1             Melbourne               Ross Maxwell McEwan   35558.000000   \n",
      "2              Shenzhen                     Jiu Sheng Zhu  131817.000000   \n",
      "3                Madrid  José María Álvarez-Pallete López  104150.000000   \n",
      "4     Midland, Michigan                    Jim Fitterling   37800.000000   \n",
      "5  Nashville, Tennessee                   Samuel N. Hazen  275000.000000   \n",
      "6                 Tokyo                   , Tomonari Sato  115973.575342   \n",
      "7                Taipei                      Yue Ting Han   42560.000000   \n",
      "8             Docklands               Shayne Cary Elliott   39196.000000   \n",
      "9          Boise, Idaho                   Sanjay Mehrotra   40000.000000   \n",
      "\n",
      "  Revenue   Assets Profits  Country_Australia  Country_China  Country_Spain  \\\n",
      "0   $8.7B  $392.3B   $1.3B                  0              0              0   \n",
      "1  $26.3B  $702.1B     $5B                  1              0              0   \n",
      "2  $75.6B  $253.7B   $3.3B                  0              1              0   \n",
      "3    $42B    $117B   $2.1B                  0              0              1   \n",
      "4  $53.5B   $59.3B   $2.9B                  0              0              0   \n",
      "5  $60.9B   $52.7B   $5.7B                  0              0              0   \n",
      "6  $60.9B   $52.7B   $471M                  0              0              0   \n",
      "7   $9.8B  $349.1B   $471M                  0              0              0   \n",
      "8  $28.3B  $744.2B   $4.9B                  1              0              0   \n",
      "9  $23.1B   $66.5B   $1.6B                  0              0              0   \n",
      "\n",
      "   Country_Taiwan  Country_United States  \n",
      "0               1                      0  \n",
      "1               0                      0  \n",
      "2               0                      0  \n",
      "3               0                      0  \n",
      "4               0                      1  \n",
      "5               0                      1  \n",
      "6               0                      1  \n",
      "7               1                      0  \n",
      "8               0                      0  \n",
      "9               0                      1  \n"
     ]
    }
   ],
   "source": [
    "df_encoded = pd.get_dummies(df.head(10), columns=['Country'], prefix=['Country'])\n",
    "print(df_encoded)\n"
   ]
  },
  {
   "cell_type": "code",
   "execution_count": 45,
   "id": "1a4b467f",
   "metadata": {
    "tags": []
   },
   "outputs": [
    {
     "name": "stdout",
     "output_type": "stream",
     "text": [
      "   SL-NO                           Name  \\\n",
      "0      1               Cathay Financial   \n",
      "1      2  NAB - National Australia Bank   \n",
      "2      3                    China Vanke   \n",
      "3      4                     Telefónica   \n",
      "4      5                            Dow   \n",
      "5      6                 HCA Healthcare   \n",
      "6      7             China Telecom Corp   \n",
      "7      8                Fubon Financial   \n",
      "8      9                            ANZ   \n",
      "9     10              Micron Technology   \n",
      "\n",
      "                                            Industry  Founded  \\\n",
      "0                                          Insurance   1975.0   \n",
      "1                                            Banking   1981.0   \n",
      "2                                       Construction   1984.0   \n",
      "3                        Telecommunications Services   1924.0   \n",
      "4  Construction, Oil & Gas Operations, Mining and...   1897.0   \n",
      "5                                Healthcare & Social   1968.0   \n",
      "6                                            Banking   1949.0   \n",
      "7                                          Insurance   2001.0   \n",
      "8                                            Banking   1835.0   \n",
      "9  Semiconductors, Electronics, Electrical Engine...   1978.0   \n",
      "\n",
      "           Headquarters        Country      Employees Revenue   Assets  \\\n",
      "0                Taipei         Taiwan   56031.000000   $8.7B  $392.3B   \n",
      "1             Melbourne      Australia   35558.000000  $26.3B  $702.1B   \n",
      "2              Shenzhen          China  131817.000000  $75.6B  $253.7B   \n",
      "3                Madrid          Spain  104150.000000    $42B    $117B   \n",
      "4     Midland, Michigan  United States   37800.000000  $53.5B   $59.3B   \n",
      "5  Nashville, Tennessee  United States  275000.000000  $60.9B   $52.7B   \n",
      "6                 Tokyo  United States  115973.575342  $60.9B   $52.7B   \n",
      "7                Taipei         Taiwan   42560.000000   $9.8B  $349.1B   \n",
      "8             Docklands      Australia   39196.000000  $28.3B  $744.2B   \n",
      "9          Boise, Idaho  United States   40000.000000  $23.1B   $66.5B   \n",
      "\n",
      "  Profits  CEO_, Tomonari Sato  CEO_Jim Fitterling  CEO_Jiu Sheng Zhu  \\\n",
      "0   $1.3B                    1                   0                  0   \n",
      "1     $5B                    0                   0                  0   \n",
      "2   $3.3B                    0                   0                  1   \n",
      "3   $2.1B                    0                   0                  0   \n",
      "4   $2.9B                    0                   1                  0   \n",
      "5   $5.7B                    0                   0                  0   \n",
      "6   $471M                    1                   0                  0   \n",
      "7   $471M                    0                   0                  0   \n",
      "8   $4.9B                    0                   0                  0   \n",
      "9   $1.6B                    0                   0                  0   \n",
      "\n",
      "   CEO_José María Álvarez-Pallete López  CEO_Ross Maxwell McEwan  \\\n",
      "0                                     0                        0   \n",
      "1                                     0                        1   \n",
      "2                                     0                        0   \n",
      "3                                     1                        0   \n",
      "4                                     0                        0   \n",
      "5                                     0                        0   \n",
      "6                                     0                        0   \n",
      "7                                     0                        0   \n",
      "8                                     0                        0   \n",
      "9                                     0                        0   \n",
      "\n",
      "   CEO_Samuel N. Hazen  CEO_Sanjay Mehrotra  CEO_Shayne Cary Elliott  \\\n",
      "0                    0                    0                        0   \n",
      "1                    0                    0                        0   \n",
      "2                    0                    0                        0   \n",
      "3                    0                    0                        0   \n",
      "4                    0                    0                        0   \n",
      "5                    1                    0                        0   \n",
      "6                    0                    0                        0   \n",
      "7                    0                    0                        0   \n",
      "8                    0                    0                        1   \n",
      "9                    0                    1                        0   \n",
      "\n",
      "   CEO_Yue Ting Han  \n",
      "0                 0  \n",
      "1                 0  \n",
      "2                 0  \n",
      "3                 0  \n",
      "4                 0  \n",
      "5                 0  \n",
      "6                 0  \n",
      "7                 1  \n",
      "8                 0  \n",
      "9                 0  \n"
     ]
    }
   ],
   "source": [
    "df_encoded = pd.get_dummies(df.head(10), columns=['CEO'], prefix=['CEO'])\n",
    "print(df_encoded)\n"
   ]
  },
  {
   "cell_type": "markdown",
   "id": "a26eb711",
   "metadata": {},
   "source": [
    "F. Data type Conversion"
   ]
  },
  {
   "cell_type": "code",
   "execution_count": 46,
   "id": "ffb254fd",
   "metadata": {
    "tags": []
   },
   "outputs": [
    {
     "data": {
      "text/plain": [
       "SL-NO             int64\n",
       "Name             object\n",
       "Industry         object\n",
       "Founded         float64\n",
       "Headquarters     object\n",
       "Country          object\n",
       "CEO              object\n",
       "Employees       float64\n",
       "Revenue          object\n",
       "Assets           object\n",
       "Profits          object\n",
       "dtype: object"
      ]
     },
     "execution_count": 46,
     "metadata": {},
     "output_type": "execute_result"
    }
   ],
   "source": [
    "df.dtypes\n"
   ]
  },
  {
   "cell_type": "code",
   "execution_count": 47,
   "id": "7d696e48",
   "metadata": {
    "tags": []
   },
   "outputs": [
    {
     "data": {
      "text/plain": [
       "0      1975\n",
       "1      1981\n",
       "2      1984\n",
       "3      1924\n",
       "4      1897\n",
       "       ... \n",
       "599    1855\n",
       "600    1973\n",
       "601    1952\n",
       "602    1968\n",
       "603    1909\n",
       "Name: Founded, Length: 604, dtype: int32"
      ]
     },
     "execution_count": 47,
     "metadata": {},
     "output_type": "execute_result"
    }
   ],
   "source": [
    "df['Founded'] = df['Founded'].astype(int)\n",
    "df['Founded']"
   ]
  },
  {
   "cell_type": "markdown",
   "id": "b6269d68",
   "metadata": {},
   "source": [
    "G. Feature Scaling"
   ]
  },
  {
   "cell_type": "code",
   "execution_count": 48,
   "id": "c8579ba4",
   "metadata": {
    "tags": []
   },
   "outputs": [
    {
     "data": {
      "text/plain": [
       "0       56031.0\n",
       "1       35558.0\n",
       "2      131817.0\n",
       "3      104150.0\n",
       "4       37800.0\n",
       "         ...   \n",
       "599     90000.0\n",
       "600    236334.0\n",
       "601    333840.0\n",
       "602    131900.0\n",
       "603     67600.0\n",
       "Name: Employees, Length: 604, dtype: float64"
      ]
     },
     "execution_count": 48,
     "metadata": {},
     "output_type": "execute_result"
    }
   ],
   "source": [
    "df['Employees']"
   ]
  },
  {
   "cell_type": "code",
   "execution_count": 49,
   "id": "287dc64a",
   "metadata": {
    "tags": []
   },
   "outputs": [
    {
     "data": {
      "text/plain": [
       "0     -0.501988\n",
       "1     -0.673439\n",
       "2      0.132681\n",
       "3     -0.099016\n",
       "4     -0.654664\n",
       "         ...   \n",
       "599   -0.217515\n",
       "600    1.007957\n",
       "601    1.824519\n",
       "602    0.133376\n",
       "603   -0.405104\n",
       "Name: Employees, Length: 604, dtype: float64"
      ]
     },
     "execution_count": 49,
     "metadata": {},
     "output_type": "execute_result"
    }
   ],
   "source": [
    "from sklearn.preprocessing import StandardScaler\n",
    "scaler = StandardScaler()\n",
    "df['Employees'] = scaler.fit_transform(df[['Employees']])\n",
    "df['Employees']"
   ]
  },
  {
   "cell_type": "markdown",
   "id": "bbf75c11",
   "metadata": {},
   "source": [
    "H. Feature Extraction\n",
    "\n",
    "Reduced the dimensionality of your dataset from two features to two principal components while retaining the most important information."
   ]
  },
  {
   "cell_type": "code",
   "execution_count": 50,
   "id": "a23826ab",
   "metadata": {
    "tags": []
   },
   "outputs": [
    {
     "data": {
      "text/plain": [
       "0     -37.071906\n",
       "1     -43.071594\n",
       "2     -46.073010\n",
       "3      13.927305\n",
       "4      40.928242\n",
       "         ...    \n",
       "599    82.927407\n",
       "600   -35.074569\n",
       "601   -14.076041\n",
       "602   -30.073036\n",
       "603    28.927821\n",
       "Name: PCA_Component1, Length: 604, dtype: float64"
      ]
     },
     "execution_count": 50,
     "metadata": {},
     "output_type": "execute_result"
    }
   ],
   "source": [
    "from sklearn.decomposition import PCA\n",
    "\n",
    "pca = PCA(n_components=2)\n",
    "pca_features = pca.fit_transform(df[['Founded', 'Employees']])\n",
    "df['PCA_Component1'] = pca_features[:, 0]\n",
    "df['PCA_Component2'] = pca_features[:, 1]\n",
    "df['PCA_Component1']"
   ]
  },
  {
   "cell_type": "code",
   "execution_count": 51,
   "id": "baf7ee14",
   "metadata": {
    "tags": []
   },
   "outputs": [
    {
     "data": {
      "text/plain": [
       "0     -0.567313\n",
       "1     -0.749336\n",
       "2      0.051496\n",
       "3     -0.074475\n",
       "4     -0.582545\n",
       "         ...   \n",
       "599   -0.071390\n",
       "600    0.946154\n",
       "601    1.799719\n",
       "602    0.080384\n",
       "603   -0.354131\n",
       "Name: PCA_Component2, Length: 604, dtype: float64"
      ]
     },
     "execution_count": 51,
     "metadata": {},
     "output_type": "execute_result"
    }
   ],
   "source": [
    "df['PCA_Component2']"
   ]
  },
  {
   "cell_type": "code",
   "execution_count": 52,
   "id": "99a19946",
   "metadata": {
    "tags": []
   },
   "outputs": [
    {
     "data": {
      "text/html": [
       "<div>\n",
       "<style scoped>\n",
       "    .dataframe tbody tr th:only-of-type {\n",
       "        vertical-align: middle;\n",
       "    }\n",
       "\n",
       "    .dataframe tbody tr th {\n",
       "        vertical-align: top;\n",
       "    }\n",
       "\n",
       "    .dataframe thead th {\n",
       "        text-align: right;\n",
       "    }\n",
       "</style>\n",
       "<table border=\"1\" class=\"dataframe\">\n",
       "  <thead>\n",
       "    <tr style=\"text-align: right;\">\n",
       "      <th></th>\n",
       "      <th>SL-NO</th>\n",
       "      <th>Name</th>\n",
       "      <th>Industry</th>\n",
       "      <th>Founded</th>\n",
       "      <th>Headquarters</th>\n",
       "      <th>Country</th>\n",
       "      <th>CEO</th>\n",
       "      <th>Employees</th>\n",
       "      <th>Revenue</th>\n",
       "      <th>Assets</th>\n",
       "      <th>Profits</th>\n",
       "      <th>PCA_Component1</th>\n",
       "      <th>PCA_Component2</th>\n",
       "    </tr>\n",
       "  </thead>\n",
       "  <tbody>\n",
       "    <tr>\n",
       "      <th>0</th>\n",
       "      <td>1</td>\n",
       "      <td>Cathay Financial</td>\n",
       "      <td>Insurance</td>\n",
       "      <td>1975</td>\n",
       "      <td>Taipei</td>\n",
       "      <td>Taiwan</td>\n",
       "      <td>, Tomonari Sato</td>\n",
       "      <td>-0.501988</td>\n",
       "      <td>$8.7B</td>\n",
       "      <td>$392.3B</td>\n",
       "      <td>$1.3B</td>\n",
       "      <td>-37.071906</td>\n",
       "      <td>-0.567313</td>\n",
       "    </tr>\n",
       "    <tr>\n",
       "      <th>1</th>\n",
       "      <td>2</td>\n",
       "      <td>NAB - National Australia Bank</td>\n",
       "      <td>Banking</td>\n",
       "      <td>1981</td>\n",
       "      <td>Melbourne</td>\n",
       "      <td>Australia</td>\n",
       "      <td>Ross Maxwell McEwan</td>\n",
       "      <td>-0.673439</td>\n",
       "      <td>$26.3B</td>\n",
       "      <td>$702.1B</td>\n",
       "      <td>$5B</td>\n",
       "      <td>-43.071594</td>\n",
       "      <td>-0.749336</td>\n",
       "    </tr>\n",
       "    <tr>\n",
       "      <th>2</th>\n",
       "      <td>3</td>\n",
       "      <td>China Vanke</td>\n",
       "      <td>Construction</td>\n",
       "      <td>1984</td>\n",
       "      <td>Shenzhen</td>\n",
       "      <td>China</td>\n",
       "      <td>Jiu Sheng Zhu</td>\n",
       "      <td>0.132681</td>\n",
       "      <td>$75.6B</td>\n",
       "      <td>$253.7B</td>\n",
       "      <td>$3.3B</td>\n",
       "      <td>-46.073010</td>\n",
       "      <td>0.051496</td>\n",
       "    </tr>\n",
       "    <tr>\n",
       "      <th>3</th>\n",
       "      <td>4</td>\n",
       "      <td>Telefónica</td>\n",
       "      <td>Telecommunications Services</td>\n",
       "      <td>1924</td>\n",
       "      <td>Madrid</td>\n",
       "      <td>Spain</td>\n",
       "      <td>José María Álvarez-Pallete López</td>\n",
       "      <td>-0.099016</td>\n",
       "      <td>$42B</td>\n",
       "      <td>$117B</td>\n",
       "      <td>$2.1B</td>\n",
       "      <td>13.927305</td>\n",
       "      <td>-0.074475</td>\n",
       "    </tr>\n",
       "    <tr>\n",
       "      <th>4</th>\n",
       "      <td>5</td>\n",
       "      <td>Dow</td>\n",
       "      <td>Construction, Oil &amp; Gas Operations, Mining and...</td>\n",
       "      <td>1897</td>\n",
       "      <td>Midland, Michigan</td>\n",
       "      <td>United States</td>\n",
       "      <td>Jim Fitterling</td>\n",
       "      <td>-0.654664</td>\n",
       "      <td>$53.5B</td>\n",
       "      <td>$59.3B</td>\n",
       "      <td>$2.9B</td>\n",
       "      <td>40.928242</td>\n",
       "      <td>-0.582545</td>\n",
       "    </tr>\n",
       "    <tr>\n",
       "      <th>5</th>\n",
       "      <td>6</td>\n",
       "      <td>HCA Healthcare</td>\n",
       "      <td>Healthcare &amp; Social</td>\n",
       "      <td>1968</td>\n",
       "      <td>Nashville, Tennessee</td>\n",
       "      <td>United States</td>\n",
       "      <td>Samuel N. Hazen</td>\n",
       "      <td>1.331765</td>\n",
       "      <td>$60.9B</td>\n",
       "      <td>$52.7B</td>\n",
       "      <td>$5.7B</td>\n",
       "      <td>-30.075148</td>\n",
       "      <td>1.278771</td>\n",
       "    </tr>\n",
       "    <tr>\n",
       "      <th>6</th>\n",
       "      <td>7</td>\n",
       "      <td>China Telecom Corp</td>\n",
       "      <td>Banking</td>\n",
       "      <td>1949</td>\n",
       "      <td>Tokyo</td>\n",
       "      <td>United States</td>\n",
       "      <td>, Tomonari Sato</td>\n",
       "      <td>0.000000</td>\n",
       "      <td>$60.9B</td>\n",
       "      <td>$52.7B</td>\n",
       "      <td>$471M</td>\n",
       "      <td>-11.072830</td>\n",
       "      <td>-0.019511</td>\n",
       "    </tr>\n",
       "    <tr>\n",
       "      <th>7</th>\n",
       "      <td>8</td>\n",
       "      <td>Fubon Financial</td>\n",
       "      <td>Insurance</td>\n",
       "      <td>2001</td>\n",
       "      <td>Taipei</td>\n",
       "      <td>Taiwan</td>\n",
       "      <td>Yue Ting Han</td>\n",
       "      <td>-0.614801</td>\n",
       "      <td>$9.8B</td>\n",
       "      <td>$349.1B</td>\n",
       "      <td>$471M</td>\n",
       "      <td>-63.071666</td>\n",
       "      <td>-0.725940</td>\n",
       "    </tr>\n",
       "    <tr>\n",
       "      <th>8</th>\n",
       "      <td>9</td>\n",
       "      <td>ANZ</td>\n",
       "      <td>Banking</td>\n",
       "      <td>1835</td>\n",
       "      <td>Docklands</td>\n",
       "      <td>Australia</td>\n",
       "      <td>Shayne Cary Elliott</td>\n",
       "      <td>-0.642973</td>\n",
       "      <td>$28.3B</td>\n",
       "      <td>$744.2B</td>\n",
       "      <td>$4.9B</td>\n",
       "      <td>102.928126</td>\n",
       "      <td>-0.461605</td>\n",
       "    </tr>\n",
       "    <tr>\n",
       "      <th>9</th>\n",
       "      <td>10</td>\n",
       "      <td>Micron Technology</td>\n",
       "      <td>Semiconductors, Electronics, Electrical Engine...</td>\n",
       "      <td>1978</td>\n",
       "      <td>Boise, Idaho</td>\n",
       "      <td>United States</td>\n",
       "      <td>Sanjay Mehrotra</td>\n",
       "      <td>-0.636240</td>\n",
       "      <td>$23.1B</td>\n",
       "      <td>$66.5B</td>\n",
       "      <td>$1.6B</td>\n",
       "      <td>-40.071664</td>\n",
       "      <td>-0.706851</td>\n",
       "    </tr>\n",
       "  </tbody>\n",
       "</table>\n",
       "</div>"
      ],
      "text/plain": [
       "   SL-NO                           Name  \\\n",
       "0      1               Cathay Financial   \n",
       "1      2  NAB - National Australia Bank   \n",
       "2      3                    China Vanke   \n",
       "3      4                     Telefónica   \n",
       "4      5                            Dow   \n",
       "5      6                 HCA Healthcare   \n",
       "6      7             China Telecom Corp   \n",
       "7      8                Fubon Financial   \n",
       "8      9                            ANZ   \n",
       "9     10              Micron Technology   \n",
       "\n",
       "                                            Industry  Founded  \\\n",
       "0                                          Insurance     1975   \n",
       "1                                            Banking     1981   \n",
       "2                                       Construction     1984   \n",
       "3                        Telecommunications Services     1924   \n",
       "4  Construction, Oil & Gas Operations, Mining and...     1897   \n",
       "5                                Healthcare & Social     1968   \n",
       "6                                            Banking     1949   \n",
       "7                                          Insurance     2001   \n",
       "8                                            Banking     1835   \n",
       "9  Semiconductors, Electronics, Electrical Engine...     1978   \n",
       "\n",
       "           Headquarters        Country                               CEO  \\\n",
       "0                Taipei         Taiwan                   , Tomonari Sato   \n",
       "1             Melbourne      Australia               Ross Maxwell McEwan   \n",
       "2              Shenzhen          China                     Jiu Sheng Zhu   \n",
       "3                Madrid          Spain  José María Álvarez-Pallete López   \n",
       "4     Midland, Michigan  United States                    Jim Fitterling   \n",
       "5  Nashville, Tennessee  United States                   Samuel N. Hazen   \n",
       "6                 Tokyo  United States                   , Tomonari Sato   \n",
       "7                Taipei         Taiwan                      Yue Ting Han   \n",
       "8             Docklands      Australia               Shayne Cary Elliott   \n",
       "9          Boise, Idaho  United States                   Sanjay Mehrotra   \n",
       "\n",
       "   Employees Revenue   Assets Profits  PCA_Component1  PCA_Component2  \n",
       "0  -0.501988   $8.7B  $392.3B   $1.3B      -37.071906       -0.567313  \n",
       "1  -0.673439  $26.3B  $702.1B     $5B      -43.071594       -0.749336  \n",
       "2   0.132681  $75.6B  $253.7B   $3.3B      -46.073010        0.051496  \n",
       "3  -0.099016    $42B    $117B   $2.1B       13.927305       -0.074475  \n",
       "4  -0.654664  $53.5B   $59.3B   $2.9B       40.928242       -0.582545  \n",
       "5   1.331765  $60.9B   $52.7B   $5.7B      -30.075148        1.278771  \n",
       "6   0.000000  $60.9B   $52.7B   $471M      -11.072830       -0.019511  \n",
       "7  -0.614801   $9.8B  $349.1B   $471M      -63.071666       -0.725940  \n",
       "8  -0.642973  $28.3B  $744.2B   $4.9B      102.928126       -0.461605  \n",
       "9  -0.636240  $23.1B   $66.5B   $1.6B      -40.071664       -0.706851  "
      ]
     },
     "execution_count": 52,
     "metadata": {},
     "output_type": "execute_result"
    }
   ],
   "source": [
    "df.head(10)"
   ]
  },
  {
   "cell_type": "code",
   "execution_count": 53,
   "id": "6debf1d9",
   "metadata": {},
   "outputs": [
    {
     "data": {
      "text/plain": [
       "array(['Taiwan', 'Australia', 'China', 'Spain', 'United States'],\n",
       "      dtype=object)"
      ]
     },
     "execution_count": 53,
     "metadata": {},
     "output_type": "execute_result"
    }
   ],
   "source": [
    "df['Country'].head(10).unique()"
   ]
  },
  {
   "cell_type": "code",
   "execution_count": 54,
   "id": "4bf698c2",
   "metadata": {},
   "outputs": [
    {
     "name": "stdout",
     "output_type": "stream",
     "text": [
      "Requirement already satisfied: pywedge in c:\\users\\soniya taj\\anaconda3\\lib\\site-packages (0.5.1.8)\n",
      "Requirement already satisfied: plotly in c:\\users\\soniya taj\\anaconda3\\lib\\site-packages (from pywedge) (5.9.0)\n",
      "Requirement already satisfied: numpy in c:\\users\\soniya taj\\anaconda3\\lib\\site-packages (from pywedge) (1.23.5)\n",
      "Requirement already satisfied: scikit-learn in c:\\users\\soniya taj\\anaconda3\\lib\\site-packages (from pywedge) (1.2.1)\n",
      "Requirement already satisfied: ipywidgets in c:\\users\\soniya taj\\anaconda3\\lib\\site-packages (from pywedge) (7.6.5)\n",
      "Requirement already satisfied: pandas in c:\\users\\soniya taj\\anaconda3\\lib\\site-packages (from pywedge) (1.5.3)\n",
      "Requirement already satisfied: tqdm in c:\\users\\soniya taj\\anaconda3\\lib\\site-packages (from pywedge) (4.64.1)\n",
      "Requirement already satisfied: xgboost in c:\\users\\soniya taj\\anaconda3\\lib\\site-packages (from pywedge) (2.0.0)\n",
      "Requirement already satisfied: catboost>0.24 in c:\\users\\soniya taj\\anaconda3\\lib\\site-packages (from pywedge) (1.2.2)\n",
      "Requirement already satisfied: imbalanced-learn in c:\\users\\soniya taj\\anaconda3\\lib\\site-packages (from pywedge) (0.10.1)\n",
      "Requirement already satisfied: graphviz in c:\\users\\soniya taj\\anaconda3\\lib\\site-packages (from catboost>0.24->pywedge) (0.20.1)\n",
      "Requirement already satisfied: six in c:\\users\\soniya taj\\anaconda3\\lib\\site-packages (from catboost>0.24->pywedge) (1.16.0)\n",
      "Requirement already satisfied: scipy in c:\\users\\soniya taj\\anaconda3\\lib\\site-packages (from catboost>0.24->pywedge) (1.10.0)\n",
      "Requirement already satisfied: matplotlib in c:\\users\\soniya taj\\anaconda3\\lib\\site-packages (from catboost>0.24->pywedge) (3.7.0)\n",
      "Requirement already satisfied: pytz>=2020.1 in c:\\users\\soniya taj\\anaconda3\\lib\\site-packages (from pandas->pywedge) (2022.7)\n",
      "Requirement already satisfied: python-dateutil>=2.8.1 in c:\\users\\soniya taj\\anaconda3\\lib\\site-packages (from pandas->pywedge) (2.8.2)\n",
      "Requirement already satisfied: threadpoolctl>=2.0.0 in c:\\users\\soniya taj\\anaconda3\\lib\\site-packages (from imbalanced-learn->pywedge) (2.2.0)\n",
      "Requirement already satisfied: joblib>=1.1.1 in c:\\users\\soniya taj\\anaconda3\\lib\\site-packages (from imbalanced-learn->pywedge) (1.1.1)\n",
      "Requirement already satisfied: traitlets>=4.3.1 in c:\\users\\soniya taj\\anaconda3\\lib\\site-packages (from ipywidgets->pywedge) (5.7.1)\n",
      "Requirement already satisfied: widgetsnbextension~=3.5.0 in c:\\users\\soniya taj\\anaconda3\\lib\\site-packages (from ipywidgets->pywedge) (3.5.2)\n",
      "Requirement already satisfied: nbformat>=4.2.0 in c:\\users\\soniya taj\\anaconda3\\lib\\site-packages (from ipywidgets->pywedge) (5.7.0)\n",
      "Requirement already satisfied: ipython-genutils~=0.2.0 in c:\\users\\soniya taj\\anaconda3\\lib\\site-packages (from ipywidgets->pywedge) (0.2.0)\n",
      "Requirement already satisfied: jupyterlab-widgets>=1.0.0 in c:\\users\\soniya taj\\anaconda3\\lib\\site-packages (from ipywidgets->pywedge) (1.0.0)\n",
      "Requirement already satisfied: ipython>=4.0.0 in c:\\users\\soniya taj\\anaconda3\\lib\\site-packages (from ipywidgets->pywedge) (8.10.0)\n",
      "Requirement already satisfied: ipykernel>=4.5.1 in c:\\users\\soniya taj\\anaconda3\\lib\\site-packages (from ipywidgets->pywedge) (6.19.2)\n",
      "Requirement already satisfied: tenacity>=6.2.0 in c:\\users\\soniya taj\\anaconda3\\lib\\site-packages (from plotly->pywedge) (8.0.1)\n",
      "Requirement already satisfied: colorama in c:\\users\\soniya taj\\anaconda3\\lib\\site-packages (from tqdm->pywedge) (0.4.6)\n",
      "Requirement already satisfied: matplotlib-inline>=0.1 in c:\\users\\soniya taj\\anaconda3\\lib\\site-packages (from ipykernel>=4.5.1->ipywidgets->pywedge) (0.1.6)\n",
      "Requirement already satisfied: comm>=0.1.1 in c:\\users\\soniya taj\\anaconda3\\lib\\site-packages (from ipykernel>=4.5.1->ipywidgets->pywedge) (0.1.2)\n",
      "Requirement already satisfied: tornado>=6.1 in c:\\users\\soniya taj\\anaconda3\\lib\\site-packages (from ipykernel>=4.5.1->ipywidgets->pywedge) (6.1)\n",
      "Requirement already satisfied: jupyter-client>=6.1.12 in c:\\users\\soniya taj\\anaconda3\\lib\\site-packages (from ipykernel>=4.5.1->ipywidgets->pywedge) (7.3.4)\n",
      "Requirement already satisfied: debugpy>=1.0 in c:\\users\\soniya taj\\anaconda3\\lib\\site-packages (from ipykernel>=4.5.1->ipywidgets->pywedge) (1.5.1)\n",
      "Requirement already satisfied: nest-asyncio in c:\\users\\soniya taj\\anaconda3\\lib\\site-packages (from ipykernel>=4.5.1->ipywidgets->pywedge) (1.5.6)\n",
      "Requirement already satisfied: psutil in c:\\users\\soniya taj\\anaconda3\\lib\\site-packages (from ipykernel>=4.5.1->ipywidgets->pywedge) (5.9.0)\n",
      "Requirement already satisfied: pyzmq>=17 in c:\\users\\soniya taj\\anaconda3\\lib\\site-packages (from ipykernel>=4.5.1->ipywidgets->pywedge) (23.2.0)\n",
      "Requirement already satisfied: packaging in c:\\users\\soniya taj\\anaconda3\\lib\\site-packages (from ipykernel>=4.5.1->ipywidgets->pywedge) (22.0)\n",
      "Requirement already satisfied: decorator in c:\\users\\soniya taj\\anaconda3\\lib\\site-packages (from ipython>=4.0.0->ipywidgets->pywedge) (5.1.1)\n",
      "Requirement already satisfied: backcall in c:\\users\\soniya taj\\anaconda3\\lib\\site-packages (from ipython>=4.0.0->ipywidgets->pywedge) (0.2.0)\n",
      "Requirement already satisfied: stack-data in c:\\users\\soniya taj\\anaconda3\\lib\\site-packages (from ipython>=4.0.0->ipywidgets->pywedge) (0.2.0)\n",
      "Requirement already satisfied: jedi>=0.16 in c:\\users\\soniya taj\\anaconda3\\lib\\site-packages (from ipython>=4.0.0->ipywidgets->pywedge) (0.18.1)\n",
      "Requirement already satisfied: prompt-toolkit<3.1.0,>=3.0.30 in c:\\users\\soniya taj\\anaconda3\\lib\\site-packages (from ipython>=4.0.0->ipywidgets->pywedge) (3.0.36)\n",
      "Requirement already satisfied: pygments>=2.4.0 in c:\\users\\soniya taj\\anaconda3\\lib\\site-packages (from ipython>=4.0.0->ipywidgets->pywedge) (2.11.2)\n",
      "Requirement already satisfied: pickleshare in c:\\users\\soniya taj\\anaconda3\\lib\\site-packages (from ipython>=4.0.0->ipywidgets->pywedge) (0.7.5)\n",
      "Requirement already satisfied: jsonschema>=2.6 in c:\\users\\soniya taj\\anaconda3\\lib\\site-packages (from nbformat>=4.2.0->ipywidgets->pywedge) (4.17.3)\n",
      "Requirement already satisfied: fastjsonschema in c:\\users\\soniya taj\\anaconda3\\lib\\site-packages (from nbformat>=4.2.0->ipywidgets->pywedge) (2.16.2)\n",
      "Requirement already satisfied: jupyter-core in c:\\users\\soniya taj\\anaconda3\\lib\\site-packages (from nbformat>=4.2.0->ipywidgets->pywedge) (5.2.0)\n",
      "Requirement already satisfied: notebook>=4.4.1 in c:\\users\\soniya taj\\anaconda3\\lib\\site-packages (from widgetsnbextension~=3.5.0->ipywidgets->pywedge) (6.5.2)\n",
      "Requirement already satisfied: kiwisolver>=1.0.1 in c:\\users\\soniya taj\\anaconda3\\lib\\site-packages (from matplotlib->catboost>0.24->pywedge) (1.4.4)\n",
      "Requirement already satisfied: fonttools>=4.22.0 in c:\\users\\soniya taj\\anaconda3\\lib\\site-packages (from matplotlib->catboost>0.24->pywedge) (4.25.0)\n",
      "Requirement already satisfied: pyparsing>=2.3.1 in c:\\users\\soniya taj\\anaconda3\\lib\\site-packages (from matplotlib->catboost>0.24->pywedge) (3.0.9)\n",
      "Requirement already satisfied: pillow>=6.2.0 in c:\\users\\soniya taj\\anaconda3\\lib\\site-packages (from matplotlib->catboost>0.24->pywedge) (9.4.0)\n",
      "Requirement already satisfied: cycler>=0.10 in c:\\users\\soniya taj\\anaconda3\\lib\\site-packages (from matplotlib->catboost>0.24->pywedge) (0.11.0)\n",
      "Requirement already satisfied: contourpy>=1.0.1 in c:\\users\\soniya taj\\anaconda3\\lib\\site-packages (from matplotlib->catboost>0.24->pywedge) (1.0.5)\n",
      "Requirement already satisfied: parso<0.9.0,>=0.8.0 in c:\\users\\soniya taj\\anaconda3\\lib\\site-packages (from jedi>=0.16->ipython>=4.0.0->ipywidgets->pywedge) (0.8.3)\n",
      "Requirement already satisfied: pyrsistent!=0.17.0,!=0.17.1,!=0.17.2,>=0.14.0 in c:\\users\\soniya taj\\anaconda3\\lib\\site-packages (from jsonschema>=2.6->nbformat>=4.2.0->ipywidgets->pywedge) (0.18.0)\n",
      "Requirement already satisfied: attrs>=17.4.0 in c:\\users\\soniya taj\\anaconda3\\lib\\site-packages (from jsonschema>=2.6->nbformat>=4.2.0->ipywidgets->pywedge) (22.1.0)\n",
      "Requirement already satisfied: entrypoints in c:\\users\\soniya taj\\anaconda3\\lib\\site-packages (from jupyter-client>=6.1.12->ipykernel>=4.5.1->ipywidgets->pywedge) (0.4)\n",
      "Requirement already satisfied: platformdirs>=2.5 in c:\\users\\soniya taj\\anaconda3\\lib\\site-packages (from jupyter-core->nbformat>=4.2.0->ipywidgets->pywedge) (2.5.2)\n",
      "Requirement already satisfied: pywin32>=1.0 in c:\\users\\soniya taj\\anaconda3\\lib\\site-packages (from jupyter-core->nbformat>=4.2.0->ipywidgets->pywedge) (305.1)\n",
      "Requirement already satisfied: terminado>=0.8.3 in c:\\users\\soniya taj\\anaconda3\\lib\\site-packages (from notebook>=4.4.1->widgetsnbextension~=3.5.0->ipywidgets->pywedge) (0.17.1)\n",
      "Requirement already satisfied: prometheus-client in c:\\users\\soniya taj\\anaconda3\\lib\\site-packages (from notebook>=4.4.1->widgetsnbextension~=3.5.0->ipywidgets->pywedge) (0.14.1)\n",
      "Requirement already satisfied: argon2-cffi in c:\\users\\soniya taj\\anaconda3\\lib\\site-packages (from notebook>=4.4.1->widgetsnbextension~=3.5.0->ipywidgets->pywedge) (21.3.0)\n",
      "Requirement already satisfied: jinja2 in c:\\users\\soniya taj\\anaconda3\\lib\\site-packages (from notebook>=4.4.1->widgetsnbextension~=3.5.0->ipywidgets->pywedge) (3.1.2)\n",
      "Requirement already satisfied: nbclassic>=0.4.7 in c:\\users\\soniya taj\\anaconda3\\lib\\site-packages (from notebook>=4.4.1->widgetsnbextension~=3.5.0->ipywidgets->pywedge) (0.5.2)\n",
      "Requirement already satisfied: nbconvert>=5 in c:\\users\\soniya taj\\anaconda3\\lib\\site-packages (from notebook>=4.4.1->widgetsnbextension~=3.5.0->ipywidgets->pywedge) (6.5.4)\n",
      "Requirement already satisfied: Send2Trash>=1.8.0 in c:\\users\\soniya taj\\anaconda3\\lib\\site-packages (from notebook>=4.4.1->widgetsnbextension~=3.5.0->ipywidgets->pywedge) (1.8.0)\n",
      "Requirement already satisfied: wcwidth in c:\\users\\soniya taj\\anaconda3\\lib\\site-packages (from prompt-toolkit<3.1.0,>=3.0.30->ipython>=4.0.0->ipywidgets->pywedge) (0.2.5)\n",
      "Requirement already satisfied: executing in c:\\users\\soniya taj\\anaconda3\\lib\\site-packages (from stack-data->ipython>=4.0.0->ipywidgets->pywedge) (0.8.3)\n",
      "Requirement already satisfied: pure-eval in c:\\users\\soniya taj\\anaconda3\\lib\\site-packages (from stack-data->ipython>=4.0.0->ipywidgets->pywedge) (0.2.2)\n",
      "Requirement already satisfied: asttokens in c:\\users\\soniya taj\\anaconda3\\lib\\site-packages (from stack-data->ipython>=4.0.0->ipywidgets->pywedge) (2.0.5)\n",
      "Requirement already satisfied: notebook-shim>=0.1.0 in c:\\users\\soniya taj\\anaconda3\\lib\\site-packages (from nbclassic>=0.4.7->notebook>=4.4.1->widgetsnbextension~=3.5.0->ipywidgets->pywedge) (0.2.2)\n",
      "Requirement already satisfied: jupyter-server>=1.8 in c:\\users\\soniya taj\\anaconda3\\lib\\site-packages (from nbclassic>=0.4.7->notebook>=4.4.1->widgetsnbextension~=3.5.0->ipywidgets->pywedge) (1.23.4)\n",
      "Requirement already satisfied: defusedxml in c:\\users\\soniya taj\\anaconda3\\lib\\site-packages (from nbconvert>=5->notebook>=4.4.1->widgetsnbextension~=3.5.0->ipywidgets->pywedge) (0.7.1)\n",
      "Requirement already satisfied: MarkupSafe>=2.0 in c:\\users\\soniya taj\\anaconda3\\lib\\site-packages (from nbconvert>=5->notebook>=4.4.1->widgetsnbextension~=3.5.0->ipywidgets->pywedge) (2.1.1)\n",
      "Requirement already satisfied: lxml in c:\\users\\soniya taj\\anaconda3\\lib\\site-packages (from nbconvert>=5->notebook>=4.4.1->widgetsnbextension~=3.5.0->ipywidgets->pywedge) (4.9.1)\n",
      "Requirement already satisfied: pandocfilters>=1.4.1 in c:\\users\\soniya taj\\anaconda3\\lib\\site-packages (from nbconvert>=5->notebook>=4.4.1->widgetsnbextension~=3.5.0->ipywidgets->pywedge) (1.5.0)\n",
      "Requirement already satisfied: nbclient>=0.5.0 in c:\\users\\soniya taj\\anaconda3\\lib\\site-packages (from nbconvert>=5->notebook>=4.4.1->widgetsnbextension~=3.5.0->ipywidgets->pywedge) (0.5.13)\n",
      "Requirement already satisfied: beautifulsoup4 in c:\\users\\soniya taj\\anaconda3\\lib\\site-packages (from nbconvert>=5->notebook>=4.4.1->widgetsnbextension~=3.5.0->ipywidgets->pywedge) (4.11.1)\n",
      "Requirement already satisfied: mistune<2,>=0.8.1 in c:\\users\\soniya taj\\anaconda3\\lib\\site-packages (from nbconvert>=5->notebook>=4.4.1->widgetsnbextension~=3.5.0->ipywidgets->pywedge) (0.8.4)\n",
      "Requirement already satisfied: jupyterlab-pygments in c:\\users\\soniya taj\\anaconda3\\lib\\site-packages (from nbconvert>=5->notebook>=4.4.1->widgetsnbextension~=3.5.0->ipywidgets->pywedge) (0.1.2)\n",
      "Requirement already satisfied: tinycss2 in c:\\users\\soniya taj\\anaconda3\\lib\\site-packages (from nbconvert>=5->notebook>=4.4.1->widgetsnbextension~=3.5.0->ipywidgets->pywedge) (1.2.1)\n",
      "Requirement already satisfied: bleach in c:\\users\\soniya taj\\anaconda3\\lib\\site-packages (from nbconvert>=5->notebook>=4.4.1->widgetsnbextension~=3.5.0->ipywidgets->pywedge) (4.1.0)\n",
      "Requirement already satisfied: pywinpty>=1.1.0 in c:\\users\\soniya taj\\anaconda3\\lib\\site-packages (from terminado>=0.8.3->notebook>=4.4.1->widgetsnbextension~=3.5.0->ipywidgets->pywedge) (2.0.10)\n",
      "Requirement already satisfied: argon2-cffi-bindings in c:\\users\\soniya taj\\anaconda3\\lib\\site-packages (from argon2-cffi->notebook>=4.4.1->widgetsnbextension~=3.5.0->ipywidgets->pywedge) (21.2.0)\n",
      "Requirement already satisfied: websocket-client in c:\\users\\soniya taj\\anaconda3\\lib\\site-packages (from jupyter-server>=1.8->nbclassic>=0.4.7->notebook>=4.4.1->widgetsnbextension~=3.5.0->ipywidgets->pywedge) (0.58.0)\n",
      "Requirement already satisfied: anyio<4,>=3.1.0 in c:\\users\\soniya taj\\anaconda3\\lib\\site-packages (from jupyter-server>=1.8->nbclassic>=0.4.7->notebook>=4.4.1->widgetsnbextension~=3.5.0->ipywidgets->pywedge) (3.5.0)\n",
      "Requirement already satisfied: cffi>=1.0.1 in c:\\users\\soniya taj\\anaconda3\\lib\\site-packages (from argon2-cffi-bindings->argon2-cffi->notebook>=4.4.1->widgetsnbextension~=3.5.0->ipywidgets->pywedge) (1.15.1)\n",
      "Requirement already satisfied: soupsieve>1.2 in c:\\users\\soniya taj\\anaconda3\\lib\\site-packages (from beautifulsoup4->nbconvert>=5->notebook>=4.4.1->widgetsnbextension~=3.5.0->ipywidgets->pywedge) (2.3.2.post1)\n",
      "Requirement already satisfied: webencodings in c:\\users\\soniya taj\\anaconda3\\lib\\site-packages (from bleach->nbconvert>=5->notebook>=4.4.1->widgetsnbextension~=3.5.0->ipywidgets->pywedge) (0.5.1)\n",
      "Requirement already satisfied: sniffio>=1.1 in c:\\users\\soniya taj\\anaconda3\\lib\\site-packages (from anyio<4,>=3.1.0->jupyter-server>=1.8->nbclassic>=0.4.7->notebook>=4.4.1->widgetsnbextension~=3.5.0->ipywidgets->pywedge) (1.2.0)\n",
      "Requirement already satisfied: idna>=2.8 in c:\\users\\soniya taj\\anaconda3\\lib\\site-packages (from anyio<4,>=3.1.0->jupyter-server>=1.8->nbclassic>=0.4.7->notebook>=4.4.1->widgetsnbextension~=3.5.0->ipywidgets->pywedge) (3.4)\n",
      "Requirement already satisfied: pycparser in c:\\users\\soniya taj\\anaconda3\\lib\\site-packages (from cffi>=1.0.1->argon2-cffi-bindings->argon2-cffi->notebook>=4.4.1->widgetsnbextension~=3.5.0->ipywidgets->pywedge) (2.21)\n",
      "Note: you may need to restart the kernel to use updated packages.\n"
     ]
    }
   ],
   "source": [
    "pip install pywedge"
   ]
  },
  {
   "cell_type": "code",
   "execution_count": 55,
   "id": "a3bafbe3",
   "metadata": {
    "tags": []
   },
   "outputs": [
    {
     "name": "stderr",
     "output_type": "stream",
     "text": [
      "C:\\Users\\Soniya taj\\anaconda3\\lib\\site-packages\\pywedge\\pywedge.py:27: FutureWarning: In a future version of pandas all arguments of DataFrame.drop except for the argument 'labels' will be keyword-only.\n",
      "  self.X = self.train.drop(self.y,1)\n"
     ]
    }
   ],
   "source": [
    "import pywedge as pw\n",
    "mc = pw.Pywedge_Charts(df,c=None, y=\"Profits\")"
   ]
  },
  {
   "cell_type": "code",
   "execution_count": 56,
   "id": "e661a11a",
   "metadata": {
    "tags": []
   },
   "outputs": [
    {
     "data": {
      "application/vnd.jupyter.widget-view+json": {
       "model_id": "b7533d5bf4e04004924a81c6489188cd",
       "version_major": 2,
       "version_minor": 0
      },
      "text/plain": [
       "HTML(value='<h2>Pywedge Make_Charts </h2>')"
      ]
     },
     "metadata": {},
     "output_type": "display_data"
    },
    {
     "data": {
      "application/vnd.jupyter.widget-view+json": {
       "model_id": "bdcad61cd36a4aadac8cd48bf4a84fa1",
       "version_major": 2,
       "version_minor": 0
      },
      "text/plain": [
       "Tab(children=(Output(), Output(), Output(), Output(), Output(), Output(), Output(), Output()), _titles={'0': '…"
      ]
     },
     "metadata": {},
     "output_type": "display_data"
    }
   ],
   "source": [
    "chart = mc.make_charts()"
   ]
  },
  {
   "cell_type": "code",
   "execution_count": 57,
   "id": "0ee7400e",
   "metadata": {
    "tags": []
   },
   "outputs": [
    {
     "data": {
      "text/html": [
       "<div>\n",
       "<style scoped>\n",
       "    .dataframe tbody tr th:only-of-type {\n",
       "        vertical-align: middle;\n",
       "    }\n",
       "\n",
       "    .dataframe tbody tr th {\n",
       "        vertical-align: top;\n",
       "    }\n",
       "\n",
       "    .dataframe thead th {\n",
       "        text-align: right;\n",
       "    }\n",
       "</style>\n",
       "<table border=\"1\" class=\"dataframe\">\n",
       "  <thead>\n",
       "    <tr style=\"text-align: right;\">\n",
       "      <th></th>\n",
       "      <th>SL-NO</th>\n",
       "      <th>Name</th>\n",
       "      <th>Industry</th>\n",
       "      <th>Founded</th>\n",
       "      <th>Headquarters</th>\n",
       "      <th>Country</th>\n",
       "      <th>CEO</th>\n",
       "      <th>Employees</th>\n",
       "      <th>Revenue</th>\n",
       "      <th>Assets</th>\n",
       "      <th>Profits</th>\n",
       "      <th>PCA_Component1</th>\n",
       "      <th>PCA_Component2</th>\n",
       "    </tr>\n",
       "  </thead>\n",
       "  <tbody>\n",
       "    <tr>\n",
       "      <th>0</th>\n",
       "      <td>1</td>\n",
       "      <td>32</td>\n",
       "      <td>18</td>\n",
       "      <td>1975</td>\n",
       "      <td>79</td>\n",
       "      <td>21</td>\n",
       "      <td>0</td>\n",
       "      <td>-0.501988</td>\n",
       "      <td>117</td>\n",
       "      <td>68</td>\n",
       "      <td>0</td>\n",
       "      <td>-37.071906</td>\n",
       "      <td>-0.567313</td>\n",
       "    </tr>\n",
       "    <tr>\n",
       "      <th>1</th>\n",
       "      <td>2</td>\n",
       "      <td>106</td>\n",
       "      <td>2</td>\n",
       "      <td>1981</td>\n",
       "      <td>41</td>\n",
       "      <td>0</td>\n",
       "      <td>100</td>\n",
       "      <td>-0.673439</td>\n",
       "      <td>37</td>\n",
       "      <td>96</td>\n",
       "      <td>66</td>\n",
       "      <td>-43.071594</td>\n",
       "      <td>-0.749336</td>\n",
       "    </tr>\n",
       "    <tr>\n",
       "      <th>2</th>\n",
       "      <td>3</td>\n",
       "      <td>40</td>\n",
       "      <td>6</td>\n",
       "      <td>1984</td>\n",
       "      <td>74</td>\n",
       "      <td>4</td>\n",
       "      <td>52</td>\n",
       "      <td>0.132681</td>\n",
       "      <td>111</td>\n",
       "      <td>55</td>\n",
       "      <td>40</td>\n",
       "      <td>-46.073010</td>\n",
       "      <td>0.051496</td>\n",
       "    </tr>\n",
       "    <tr>\n",
       "      <th>3</th>\n",
       "      <td>4</td>\n",
       "      <td>135</td>\n",
       "      <td>29</td>\n",
       "      <td>1924</td>\n",
       "      <td>39</td>\n",
       "      <td>19</td>\n",
       "      <td>56</td>\n",
       "      <td>-0.099016</td>\n",
       "      <td>67</td>\n",
       "      <td>11</td>\n",
       "      <td>27</td>\n",
       "      <td>13.927305</td>\n",
       "      <td>-0.074475</td>\n",
       "    </tr>\n",
       "    <tr>\n",
       "      <th>4</th>\n",
       "      <td>5</td>\n",
       "      <td>55</td>\n",
       "      <td>7</td>\n",
       "      <td>1897</td>\n",
       "      <td>45</td>\n",
       "      <td>23</td>\n",
       "      <td>50</td>\n",
       "      <td>-0.654664</td>\n",
       "      <td>82</td>\n",
       "      <td>85</td>\n",
       "      <td>31</td>\n",
       "      <td>40.928242</td>\n",
       "      <td>-0.582545</td>\n",
       "    </tr>\n",
       "  </tbody>\n",
       "</table>\n",
       "</div>"
      ],
      "text/plain": [
       "   SL-NO  Name  Industry  Founded  Headquarters  Country  CEO  Employees  \\\n",
       "0      1    32        18     1975            79       21    0  -0.501988   \n",
       "1      2   106         2     1981            41        0  100  -0.673439   \n",
       "2      3    40         6     1984            74        4   52   0.132681   \n",
       "3      4   135        29     1924            39       19   56  -0.099016   \n",
       "4      5    55         7     1897            45       23   50  -0.654664   \n",
       "\n",
       "   Revenue  Assets  Profits  PCA_Component1  PCA_Component2  \n",
       "0      117      68        0      -37.071906       -0.567313  \n",
       "1       37      96       66      -43.071594       -0.749336  \n",
       "2      111      55       40      -46.073010        0.051496  \n",
       "3       67      11       27       13.927305       -0.074475  \n",
       "4       82      85       31       40.928242       -0.582545  "
      ]
     },
     "execution_count": 57,
     "metadata": {},
     "output_type": "execute_result"
    }
   ],
   "source": [
    "to_categorical=['Name', 'Industry','Headquarters', 'Country', 'CEO','Revenue', 'Assets', 'Profits'] \n",
    "from sklearn.preprocessing import LabelEncoder \n",
    "L_encoder=LabelEncoder() \n",
    "for label in to_categorical: \n",
    "    df[label]=L_encoder.fit_transform(df[label]) \n",
    "df.head()"
   ]
  },
  {
   "cell_type": "markdown",
   "id": "fb136680",
   "metadata": {},
   "source": [
    "Ensembling Model Building"
   ]
  },
  {
   "cell_type": "code",
   "execution_count": 99,
   "id": "5892c586",
   "metadata": {},
   "outputs": [
    {
     "name": "stdout",
     "output_type": "stream",
     "text": [
      "Blending Model Accuracy: 0.9917355371900827\n"
     ]
    }
   ],
   "source": [
    "from sklearn.model_selection import train_test_split\n",
    "from sklearn.linear_model import LogisticRegression\n",
    "from sklearn.tree import DecisionTreeClassifier\n",
    "from sklearn.ensemble import RandomForestClassifier\n",
    "import pandas as pd\n",
    "import numpy as np\n",
    "import warnings\n",
    "warnings.filterwarnings('ignore')\n",
    "feature_cols = ['Founded','Headquarters','Country','Industry','Revenue','Assets']\n",
    "X = df[feature_cols]\n",
    "y = df.Profits\n",
    "X_train, X_test, y_train, y_test = train_test_split(X, y, test_size=0.6,random_state=42)\n",
    "model1 = LogisticRegression() \n",
    "model2 = DecisionTreeClassifier()\n",
    "model3 = RandomForestClassifier()\n",
    "model1.fit(X_train, y_train) \n",
    "model2.fit(X_train, y_train)\n",
    "model3.fit(X_train, y_train)\n",
    "pred1 = model1.predict(X_test) \n",
    "pred2 = model2.predict(X_test)\n",
    "pred3 = model3.predict(X_test)\n",
    "blending_model = DecisionTreeClassifier() #RandomForestClassifier() \n",
    "blending_model.fit(np.column_stack((pred1, pred2, pred3)), y_test)\n",
    "accuracy = blending_model.score(np.column_stack((pred1, pred2, pred3)), y_test)\n",
    "print(\"Blending Model Accuracy:\", accuracy)"
   ]
  },
  {
   "cell_type": "code",
   "execution_count": 59,
   "id": "c96bd602",
   "metadata": {},
   "outputs": [
    {
     "name": "stdout",
     "output_type": "stream",
     "text": [
      "Blending Model Accuracy: 0.23140495867768596\n"
     ]
    }
   ],
   "source": [
    "from sklearn.model_selection import train_test_split\n",
    "from sklearn.svm import SVC\n",
    "from sklearn.tree import DecisionTreeClassifier\n",
    "from sklearn.ensemble import RandomForestClassifier\n",
    "import pandas as pd\n",
    "import numpy as np\n",
    "import warnings\n",
    "warnings.filterwarnings('ignore')\n",
    "feature_cols = ['Founded','Headquarters','Country','Industry','Revenue','Assets']\n",
    "X = df[feature_cols]\n",
    "y = df.Profits\n",
    "X_train, X_test, y_train, y_test = train_test_split(X, y, test_size=0.2,random_state=42)\n",
    "model1 = SVC() \n",
    "model2 = DecisionTreeClassifier()\n",
    "model3 = RandomForestClassifier()\n",
    "model1.fit(X_train, y_train) \n",
    "model2.fit(X_train, y_train)\n",
    "model3.fit(X_train, y_train)\n",
    "pred1 = model1.predict(X_test) \n",
    "pred2 = model2.predict(X_test)\n",
    "pred3 = model3.predict(X_test)\n",
    "blending_model =SVC() #RandomForestClassifier() #DecisionTreeClassifier()\n",
    "blending_model.fit(np.column_stack((pred1, pred2, pred3)), y_test)\n",
    "accuracy = blending_model.score(np.column_stack((pred1, pred2, pred3)), y_test)\n",
    "print(\"Blending Model Accuracy:\", accuracy)"
   ]
  },
  {
   "cell_type": "markdown",
   "id": "349a1fc9",
   "metadata": {},
   "source": [
    "Logistic Regression"
   ]
  },
  {
   "cell_type": "code",
   "execution_count": 60,
   "id": "574a1b17",
   "metadata": {},
   "outputs": [
    {
     "data": {
      "text/html": [
       "<style>#sk-container-id-1 {color: black;background-color: white;}#sk-container-id-1 pre{padding: 0;}#sk-container-id-1 div.sk-toggleable {background-color: white;}#sk-container-id-1 label.sk-toggleable__label {cursor: pointer;display: block;width: 100%;margin-bottom: 0;padding: 0.3em;box-sizing: border-box;text-align: center;}#sk-container-id-1 label.sk-toggleable__label-arrow:before {content: \"▸\";float: left;margin-right: 0.25em;color: #696969;}#sk-container-id-1 label.sk-toggleable__label-arrow:hover:before {color: black;}#sk-container-id-1 div.sk-estimator:hover label.sk-toggleable__label-arrow:before {color: black;}#sk-container-id-1 div.sk-toggleable__content {max-height: 0;max-width: 0;overflow: hidden;text-align: left;background-color: #f0f8ff;}#sk-container-id-1 div.sk-toggleable__content pre {margin: 0.2em;color: black;border-radius: 0.25em;background-color: #f0f8ff;}#sk-container-id-1 input.sk-toggleable__control:checked~div.sk-toggleable__content {max-height: 200px;max-width: 100%;overflow: auto;}#sk-container-id-1 input.sk-toggleable__control:checked~label.sk-toggleable__label-arrow:before {content: \"▾\";}#sk-container-id-1 div.sk-estimator input.sk-toggleable__control:checked~label.sk-toggleable__label {background-color: #d4ebff;}#sk-container-id-1 div.sk-label input.sk-toggleable__control:checked~label.sk-toggleable__label {background-color: #d4ebff;}#sk-container-id-1 input.sk-hidden--visually {border: 0;clip: rect(1px 1px 1px 1px);clip: rect(1px, 1px, 1px, 1px);height: 1px;margin: -1px;overflow: hidden;padding: 0;position: absolute;width: 1px;}#sk-container-id-1 div.sk-estimator {font-family: monospace;background-color: #f0f8ff;border: 1px dotted black;border-radius: 0.25em;box-sizing: border-box;margin-bottom: 0.5em;}#sk-container-id-1 div.sk-estimator:hover {background-color: #d4ebff;}#sk-container-id-1 div.sk-parallel-item::after {content: \"\";width: 100%;border-bottom: 1px solid gray;flex-grow: 1;}#sk-container-id-1 div.sk-label:hover label.sk-toggleable__label {background-color: #d4ebff;}#sk-container-id-1 div.sk-serial::before {content: \"\";position: absolute;border-left: 1px solid gray;box-sizing: border-box;top: 0;bottom: 0;left: 50%;z-index: 0;}#sk-container-id-1 div.sk-serial {display: flex;flex-direction: column;align-items: center;background-color: white;padding-right: 0.2em;padding-left: 0.2em;position: relative;}#sk-container-id-1 div.sk-item {position: relative;z-index: 1;}#sk-container-id-1 div.sk-parallel {display: flex;align-items: stretch;justify-content: center;background-color: white;position: relative;}#sk-container-id-1 div.sk-item::before, #sk-container-id-1 div.sk-parallel-item::before {content: \"\";position: absolute;border-left: 1px solid gray;box-sizing: border-box;top: 0;bottom: 0;left: 50%;z-index: -1;}#sk-container-id-1 div.sk-parallel-item {display: flex;flex-direction: column;z-index: 1;position: relative;background-color: white;}#sk-container-id-1 div.sk-parallel-item:first-child::after {align-self: flex-end;width: 50%;}#sk-container-id-1 div.sk-parallel-item:last-child::after {align-self: flex-start;width: 50%;}#sk-container-id-1 div.sk-parallel-item:only-child::after {width: 0;}#sk-container-id-1 div.sk-dashed-wrapped {border: 1px dashed gray;margin: 0 0.4em 0.5em 0.4em;box-sizing: border-box;padding-bottom: 0.4em;background-color: white;}#sk-container-id-1 div.sk-label label {font-family: monospace;font-weight: bold;display: inline-block;line-height: 1.2em;}#sk-container-id-1 div.sk-label-container {text-align: center;}#sk-container-id-1 div.sk-container {/* jupyter's `normalize.less` sets `[hidden] { display: none; }` but bootstrap.min.css set `[hidden] { display: none !important; }` so we also need the `!important` here to be able to override the default hidden behavior on the sphinx rendered scikit-learn.org. See: https://github.com/scikit-learn/scikit-learn/issues/21755 */display: inline-block !important;position: relative;}#sk-container-id-1 div.sk-text-repr-fallback {display: none;}</style><div id=\"sk-container-id-1\" class=\"sk-top-container\"><div class=\"sk-text-repr-fallback\"><pre>LogisticRegression()</pre><b>In a Jupyter environment, please rerun this cell to show the HTML representation or trust the notebook. <br />On GitHub, the HTML representation is unable to render, please try loading this page with nbviewer.org.</b></div><div class=\"sk-container\" hidden><div class=\"sk-item\"><div class=\"sk-estimator sk-toggleable\"><input class=\"sk-toggleable__control sk-hidden--visually\" id=\"sk-estimator-id-1\" type=\"checkbox\" checked><label for=\"sk-estimator-id-1\" class=\"sk-toggleable__label sk-toggleable__label-arrow\">LogisticRegression</label><div class=\"sk-toggleable__content\"><pre>LogisticRegression()</pre></div></div></div></div></div>"
      ],
      "text/plain": [
       "LogisticRegression()"
      ]
     },
     "execution_count": 60,
     "metadata": {},
     "output_type": "execute_result"
    }
   ],
   "source": [
    "from sklearn.linear_model import LogisticRegression\n",
    "model = LogisticRegression()\n",
    "model.fit(df[['Founded','Headquarters','Country','Industry','Revenue','Assets']],df['Profits'])"
   ]
  },
  {
   "cell_type": "code",
   "execution_count": 61,
   "id": "f6a45b94",
   "metadata": {},
   "outputs": [
    {
     "data": {
      "text/plain": [
       "0.3841059602649007"
      ]
     },
     "execution_count": 61,
     "metadata": {},
     "output_type": "execute_result"
    }
   ],
   "source": [
    "model.score(df[['Founded','Headquarters','Country','Industry','Revenue','Assets']],df['Profits'])"
   ]
  },
  {
   "cell_type": "markdown",
   "id": "d378d16a",
   "metadata": {},
   "source": [
    "Linear Regression"
   ]
  },
  {
   "cell_type": "code",
   "execution_count": 62,
   "id": "7db0f701",
   "metadata": {},
   "outputs": [
    {
     "data": {
      "text/html": [
       "<style>#sk-container-id-2 {color: black;background-color: white;}#sk-container-id-2 pre{padding: 0;}#sk-container-id-2 div.sk-toggleable {background-color: white;}#sk-container-id-2 label.sk-toggleable__label {cursor: pointer;display: block;width: 100%;margin-bottom: 0;padding: 0.3em;box-sizing: border-box;text-align: center;}#sk-container-id-2 label.sk-toggleable__label-arrow:before {content: \"▸\";float: left;margin-right: 0.25em;color: #696969;}#sk-container-id-2 label.sk-toggleable__label-arrow:hover:before {color: black;}#sk-container-id-2 div.sk-estimator:hover label.sk-toggleable__label-arrow:before {color: black;}#sk-container-id-2 div.sk-toggleable__content {max-height: 0;max-width: 0;overflow: hidden;text-align: left;background-color: #f0f8ff;}#sk-container-id-2 div.sk-toggleable__content pre {margin: 0.2em;color: black;border-radius: 0.25em;background-color: #f0f8ff;}#sk-container-id-2 input.sk-toggleable__control:checked~div.sk-toggleable__content {max-height: 200px;max-width: 100%;overflow: auto;}#sk-container-id-2 input.sk-toggleable__control:checked~label.sk-toggleable__label-arrow:before {content: \"▾\";}#sk-container-id-2 div.sk-estimator input.sk-toggleable__control:checked~label.sk-toggleable__label {background-color: #d4ebff;}#sk-container-id-2 div.sk-label input.sk-toggleable__control:checked~label.sk-toggleable__label {background-color: #d4ebff;}#sk-container-id-2 input.sk-hidden--visually {border: 0;clip: rect(1px 1px 1px 1px);clip: rect(1px, 1px, 1px, 1px);height: 1px;margin: -1px;overflow: hidden;padding: 0;position: absolute;width: 1px;}#sk-container-id-2 div.sk-estimator {font-family: monospace;background-color: #f0f8ff;border: 1px dotted black;border-radius: 0.25em;box-sizing: border-box;margin-bottom: 0.5em;}#sk-container-id-2 div.sk-estimator:hover {background-color: #d4ebff;}#sk-container-id-2 div.sk-parallel-item::after {content: \"\";width: 100%;border-bottom: 1px solid gray;flex-grow: 1;}#sk-container-id-2 div.sk-label:hover label.sk-toggleable__label {background-color: #d4ebff;}#sk-container-id-2 div.sk-serial::before {content: \"\";position: absolute;border-left: 1px solid gray;box-sizing: border-box;top: 0;bottom: 0;left: 50%;z-index: 0;}#sk-container-id-2 div.sk-serial {display: flex;flex-direction: column;align-items: center;background-color: white;padding-right: 0.2em;padding-left: 0.2em;position: relative;}#sk-container-id-2 div.sk-item {position: relative;z-index: 1;}#sk-container-id-2 div.sk-parallel {display: flex;align-items: stretch;justify-content: center;background-color: white;position: relative;}#sk-container-id-2 div.sk-item::before, #sk-container-id-2 div.sk-parallel-item::before {content: \"\";position: absolute;border-left: 1px solid gray;box-sizing: border-box;top: 0;bottom: 0;left: 50%;z-index: -1;}#sk-container-id-2 div.sk-parallel-item {display: flex;flex-direction: column;z-index: 1;position: relative;background-color: white;}#sk-container-id-2 div.sk-parallel-item:first-child::after {align-self: flex-end;width: 50%;}#sk-container-id-2 div.sk-parallel-item:last-child::after {align-self: flex-start;width: 50%;}#sk-container-id-2 div.sk-parallel-item:only-child::after {width: 0;}#sk-container-id-2 div.sk-dashed-wrapped {border: 1px dashed gray;margin: 0 0.4em 0.5em 0.4em;box-sizing: border-box;padding-bottom: 0.4em;background-color: white;}#sk-container-id-2 div.sk-label label {font-family: monospace;font-weight: bold;display: inline-block;line-height: 1.2em;}#sk-container-id-2 div.sk-label-container {text-align: center;}#sk-container-id-2 div.sk-container {/* jupyter's `normalize.less` sets `[hidden] { display: none; }` but bootstrap.min.css set `[hidden] { display: none !important; }` so we also need the `!important` here to be able to override the default hidden behavior on the sphinx rendered scikit-learn.org. See: https://github.com/scikit-learn/scikit-learn/issues/21755 */display: inline-block !important;position: relative;}#sk-container-id-2 div.sk-text-repr-fallback {display: none;}</style><div id=\"sk-container-id-2\" class=\"sk-top-container\"><div class=\"sk-text-repr-fallback\"><pre>LinearRegression()</pre><b>In a Jupyter environment, please rerun this cell to show the HTML representation or trust the notebook. <br />On GitHub, the HTML representation is unable to render, please try loading this page with nbviewer.org.</b></div><div class=\"sk-container\" hidden><div class=\"sk-item\"><div class=\"sk-estimator sk-toggleable\"><input class=\"sk-toggleable__control sk-hidden--visually\" id=\"sk-estimator-id-2\" type=\"checkbox\" checked><label for=\"sk-estimator-id-2\" class=\"sk-toggleable__label sk-toggleable__label-arrow\">LinearRegression</label><div class=\"sk-toggleable__content\"><pre>LinearRegression()</pre></div></div></div></div></div>"
      ],
      "text/plain": [
       "LinearRegression()"
      ]
     },
     "execution_count": 62,
     "metadata": {},
     "output_type": "execute_result"
    }
   ],
   "source": [
    "from sklearn.linear_model import LinearRegression\n",
    "model = LinearRegression()\n",
    "model.fit(df[['Founded','Headquarters','Country','Industry','Revenue','Assets']],df['Profits'])"
   ]
  },
  {
   "cell_type": "code",
   "execution_count": 63,
   "id": "950eeb72",
   "metadata": {},
   "outputs": [
    {
     "data": {
      "text/plain": [
       "array([54.28349372])"
      ]
     },
     "execution_count": 63,
     "metadata": {},
     "output_type": "execute_result"
    }
   ],
   "source": [
    "model.predict([[1981,41,0,2,37,96]])"
   ]
  },
  {
   "cell_type": "code",
   "execution_count": 64,
   "id": "e33f650b",
   "metadata": {},
   "outputs": [
    {
     "data": {
      "text/plain": [
       "array([55.17518633])"
      ]
     },
     "execution_count": 64,
     "metadata": {},
     "output_type": "execute_result"
    }
   ],
   "source": [
    "model.predict([[1984,74,4,6,111,55]])"
   ]
  },
  {
   "cell_type": "code",
   "execution_count": 65,
   "id": "6420e6af",
   "metadata": {},
   "outputs": [
    {
     "data": {
      "text/html": [
       "<style>#sk-container-id-3 {color: black;background-color: white;}#sk-container-id-3 pre{padding: 0;}#sk-container-id-3 div.sk-toggleable {background-color: white;}#sk-container-id-3 label.sk-toggleable__label {cursor: pointer;display: block;width: 100%;margin-bottom: 0;padding: 0.3em;box-sizing: border-box;text-align: center;}#sk-container-id-3 label.sk-toggleable__label-arrow:before {content: \"▸\";float: left;margin-right: 0.25em;color: #696969;}#sk-container-id-3 label.sk-toggleable__label-arrow:hover:before {color: black;}#sk-container-id-3 div.sk-estimator:hover label.sk-toggleable__label-arrow:before {color: black;}#sk-container-id-3 div.sk-toggleable__content {max-height: 0;max-width: 0;overflow: hidden;text-align: left;background-color: #f0f8ff;}#sk-container-id-3 div.sk-toggleable__content pre {margin: 0.2em;color: black;border-radius: 0.25em;background-color: #f0f8ff;}#sk-container-id-3 input.sk-toggleable__control:checked~div.sk-toggleable__content {max-height: 200px;max-width: 100%;overflow: auto;}#sk-container-id-3 input.sk-toggleable__control:checked~label.sk-toggleable__label-arrow:before {content: \"▾\";}#sk-container-id-3 div.sk-estimator input.sk-toggleable__control:checked~label.sk-toggleable__label {background-color: #d4ebff;}#sk-container-id-3 div.sk-label input.sk-toggleable__control:checked~label.sk-toggleable__label {background-color: #d4ebff;}#sk-container-id-3 input.sk-hidden--visually {border: 0;clip: rect(1px 1px 1px 1px);clip: rect(1px, 1px, 1px, 1px);height: 1px;margin: -1px;overflow: hidden;padding: 0;position: absolute;width: 1px;}#sk-container-id-3 div.sk-estimator {font-family: monospace;background-color: #f0f8ff;border: 1px dotted black;border-radius: 0.25em;box-sizing: border-box;margin-bottom: 0.5em;}#sk-container-id-3 div.sk-estimator:hover {background-color: #d4ebff;}#sk-container-id-3 div.sk-parallel-item::after {content: \"\";width: 100%;border-bottom: 1px solid gray;flex-grow: 1;}#sk-container-id-3 div.sk-label:hover label.sk-toggleable__label {background-color: #d4ebff;}#sk-container-id-3 div.sk-serial::before {content: \"\";position: absolute;border-left: 1px solid gray;box-sizing: border-box;top: 0;bottom: 0;left: 50%;z-index: 0;}#sk-container-id-3 div.sk-serial {display: flex;flex-direction: column;align-items: center;background-color: white;padding-right: 0.2em;padding-left: 0.2em;position: relative;}#sk-container-id-3 div.sk-item {position: relative;z-index: 1;}#sk-container-id-3 div.sk-parallel {display: flex;align-items: stretch;justify-content: center;background-color: white;position: relative;}#sk-container-id-3 div.sk-item::before, #sk-container-id-3 div.sk-parallel-item::before {content: \"\";position: absolute;border-left: 1px solid gray;box-sizing: border-box;top: 0;bottom: 0;left: 50%;z-index: -1;}#sk-container-id-3 div.sk-parallel-item {display: flex;flex-direction: column;z-index: 1;position: relative;background-color: white;}#sk-container-id-3 div.sk-parallel-item:first-child::after {align-self: flex-end;width: 50%;}#sk-container-id-3 div.sk-parallel-item:last-child::after {align-self: flex-start;width: 50%;}#sk-container-id-3 div.sk-parallel-item:only-child::after {width: 0;}#sk-container-id-3 div.sk-dashed-wrapped {border: 1px dashed gray;margin: 0 0.4em 0.5em 0.4em;box-sizing: border-box;padding-bottom: 0.4em;background-color: white;}#sk-container-id-3 div.sk-label label {font-family: monospace;font-weight: bold;display: inline-block;line-height: 1.2em;}#sk-container-id-3 div.sk-label-container {text-align: center;}#sk-container-id-3 div.sk-container {/* jupyter's `normalize.less` sets `[hidden] { display: none; }` but bootstrap.min.css set `[hidden] { display: none !important; }` so we also need the `!important` here to be able to override the default hidden behavior on the sphinx rendered scikit-learn.org. See: https://github.com/scikit-learn/scikit-learn/issues/21755 */display: inline-block !important;position: relative;}#sk-container-id-3 div.sk-text-repr-fallback {display: none;}</style><div id=\"sk-container-id-3\" class=\"sk-top-container\"><div class=\"sk-text-repr-fallback\"><pre>Lasso()</pre><b>In a Jupyter environment, please rerun this cell to show the HTML representation or trust the notebook. <br />On GitHub, the HTML representation is unable to render, please try loading this page with nbviewer.org.</b></div><div class=\"sk-container\" hidden><div class=\"sk-item\"><div class=\"sk-estimator sk-toggleable\"><input class=\"sk-toggleable__control sk-hidden--visually\" id=\"sk-estimator-id-3\" type=\"checkbox\" checked><label for=\"sk-estimator-id-3\" class=\"sk-toggleable__label sk-toggleable__label-arrow\">Lasso</label><div class=\"sk-toggleable__content\"><pre>Lasso()</pre></div></div></div></div></div>"
      ],
      "text/plain": [
       "Lasso()"
      ]
     },
     "execution_count": 65,
     "metadata": {},
     "output_type": "execute_result"
    }
   ],
   "source": [
    "from sklearn.linear_model import Lasso\n",
    "model= Lasso()\n",
    "model.fit(df[['Founded','Headquarters','Country','Industry','Revenue','Assets']],df['Profits'])\n"
   ]
  },
  {
   "cell_type": "code",
   "execution_count": 66,
   "id": "31d886f9",
   "metadata": {},
   "outputs": [
    {
     "data": {
      "text/plain": [
       "array([54.44682796])"
      ]
     },
     "execution_count": 66,
     "metadata": {},
     "output_type": "execute_result"
    }
   ],
   "source": [
    "model.predict([[1981,41,0,2,37,96]])"
   ]
  },
  {
   "cell_type": "code",
   "execution_count": 67,
   "id": "432dcb33",
   "metadata": {},
   "outputs": [
    {
     "data": {
      "text/html": [
       "<style>#sk-container-id-4 {color: black;background-color: white;}#sk-container-id-4 pre{padding: 0;}#sk-container-id-4 div.sk-toggleable {background-color: white;}#sk-container-id-4 label.sk-toggleable__label {cursor: pointer;display: block;width: 100%;margin-bottom: 0;padding: 0.3em;box-sizing: border-box;text-align: center;}#sk-container-id-4 label.sk-toggleable__label-arrow:before {content: \"▸\";float: left;margin-right: 0.25em;color: #696969;}#sk-container-id-4 label.sk-toggleable__label-arrow:hover:before {color: black;}#sk-container-id-4 div.sk-estimator:hover label.sk-toggleable__label-arrow:before {color: black;}#sk-container-id-4 div.sk-toggleable__content {max-height: 0;max-width: 0;overflow: hidden;text-align: left;background-color: #f0f8ff;}#sk-container-id-4 div.sk-toggleable__content pre {margin: 0.2em;color: black;border-radius: 0.25em;background-color: #f0f8ff;}#sk-container-id-4 input.sk-toggleable__control:checked~div.sk-toggleable__content {max-height: 200px;max-width: 100%;overflow: auto;}#sk-container-id-4 input.sk-toggleable__control:checked~label.sk-toggleable__label-arrow:before {content: \"▾\";}#sk-container-id-4 div.sk-estimator input.sk-toggleable__control:checked~label.sk-toggleable__label {background-color: #d4ebff;}#sk-container-id-4 div.sk-label input.sk-toggleable__control:checked~label.sk-toggleable__label {background-color: #d4ebff;}#sk-container-id-4 input.sk-hidden--visually {border: 0;clip: rect(1px 1px 1px 1px);clip: rect(1px, 1px, 1px, 1px);height: 1px;margin: -1px;overflow: hidden;padding: 0;position: absolute;width: 1px;}#sk-container-id-4 div.sk-estimator {font-family: monospace;background-color: #f0f8ff;border: 1px dotted black;border-radius: 0.25em;box-sizing: border-box;margin-bottom: 0.5em;}#sk-container-id-4 div.sk-estimator:hover {background-color: #d4ebff;}#sk-container-id-4 div.sk-parallel-item::after {content: \"\";width: 100%;border-bottom: 1px solid gray;flex-grow: 1;}#sk-container-id-4 div.sk-label:hover label.sk-toggleable__label {background-color: #d4ebff;}#sk-container-id-4 div.sk-serial::before {content: \"\";position: absolute;border-left: 1px solid gray;box-sizing: border-box;top: 0;bottom: 0;left: 50%;z-index: 0;}#sk-container-id-4 div.sk-serial {display: flex;flex-direction: column;align-items: center;background-color: white;padding-right: 0.2em;padding-left: 0.2em;position: relative;}#sk-container-id-4 div.sk-item {position: relative;z-index: 1;}#sk-container-id-4 div.sk-parallel {display: flex;align-items: stretch;justify-content: center;background-color: white;position: relative;}#sk-container-id-4 div.sk-item::before, #sk-container-id-4 div.sk-parallel-item::before {content: \"\";position: absolute;border-left: 1px solid gray;box-sizing: border-box;top: 0;bottom: 0;left: 50%;z-index: -1;}#sk-container-id-4 div.sk-parallel-item {display: flex;flex-direction: column;z-index: 1;position: relative;background-color: white;}#sk-container-id-4 div.sk-parallel-item:first-child::after {align-self: flex-end;width: 50%;}#sk-container-id-4 div.sk-parallel-item:last-child::after {align-self: flex-start;width: 50%;}#sk-container-id-4 div.sk-parallel-item:only-child::after {width: 0;}#sk-container-id-4 div.sk-dashed-wrapped {border: 1px dashed gray;margin: 0 0.4em 0.5em 0.4em;box-sizing: border-box;padding-bottom: 0.4em;background-color: white;}#sk-container-id-4 div.sk-label label {font-family: monospace;font-weight: bold;display: inline-block;line-height: 1.2em;}#sk-container-id-4 div.sk-label-container {text-align: center;}#sk-container-id-4 div.sk-container {/* jupyter's `normalize.less` sets `[hidden] { display: none; }` but bootstrap.min.css set `[hidden] { display: none !important; }` so we also need the `!important` here to be able to override the default hidden behavior on the sphinx rendered scikit-learn.org. See: https://github.com/scikit-learn/scikit-learn/issues/21755 */display: inline-block !important;position: relative;}#sk-container-id-4 div.sk-text-repr-fallback {display: none;}</style><div id=\"sk-container-id-4\" class=\"sk-top-container\"><div class=\"sk-text-repr-fallback\"><pre>Ridge()</pre><b>In a Jupyter environment, please rerun this cell to show the HTML representation or trust the notebook. <br />On GitHub, the HTML representation is unable to render, please try loading this page with nbviewer.org.</b></div><div class=\"sk-container\" hidden><div class=\"sk-item\"><div class=\"sk-estimator sk-toggleable\"><input class=\"sk-toggleable__control sk-hidden--visually\" id=\"sk-estimator-id-4\" type=\"checkbox\" checked><label for=\"sk-estimator-id-4\" class=\"sk-toggleable__label sk-toggleable__label-arrow\">Ridge</label><div class=\"sk-toggleable__content\"><pre>Ridge()</pre></div></div></div></div></div>"
      ],
      "text/plain": [
       "Ridge()"
      ]
     },
     "execution_count": 67,
     "metadata": {},
     "output_type": "execute_result"
    }
   ],
   "source": [
    "from sklearn.linear_model import Ridge\n",
    "model= Ridge()\n",
    "model.fit(df[['Founded','Headquarters','Country','Industry','Revenue','Assets']],df['Profits'])"
   ]
  },
  {
   "cell_type": "code",
   "execution_count": 68,
   "id": "5d8963af",
   "metadata": {},
   "outputs": [
    {
     "data": {
      "text/plain": [
       "array([54.28344276])"
      ]
     },
     "execution_count": 68,
     "metadata": {},
     "output_type": "execute_result"
    }
   ],
   "source": [
    "model.predict([[1981,41,0,2,37,96]])"
   ]
  },
  {
   "cell_type": "code",
   "execution_count": 69,
   "id": "092ea059",
   "metadata": {},
   "outputs": [
    {
     "data": {
      "text/plain": [
       "0.03865642822068249"
      ]
     },
     "execution_count": 69,
     "metadata": {},
     "output_type": "execute_result"
    }
   ],
   "source": [
    "model.score(df[['Founded','Headquarters','Country','Industry','Revenue','Assets']],df['Profits'])"
   ]
  },
  {
   "cell_type": "code",
   "execution_count": 70,
   "id": "ea759676",
   "metadata": {},
   "outputs": [],
   "source": [
    "from sklearn.model_selection import train_test_split\n",
    "X_train,X_test,y_train,y_test = train_test_split(X,y,test_size=0.5,random_state=42)"
   ]
  },
  {
   "cell_type": "code",
   "execution_count": 71,
   "id": "157f5b54",
   "metadata": {},
   "outputs": [
    {
     "data": {
      "text/plain": [
       "-0.025324787335516907"
      ]
     },
     "execution_count": 71,
     "metadata": {},
     "output_type": "execute_result"
    }
   ],
   "source": [
    "from sklearn.linear_model import LinearRegression\n",
    "lr_clf = LinearRegression()\n",
    "lr_clf.fit(X_train,y_train)\n",
    "lr_clf.score(X_test,y_test)"
   ]
  },
  {
   "cell_type": "markdown",
   "id": "81a31131",
   "metadata": {},
   "source": [
    "Cross-Validation"
   ]
  },
  {
   "cell_type": "code",
   "execution_count": 72,
   "id": "c3faf28b",
   "metadata": {},
   "outputs": [
    {
     "data": {
      "text/plain": [
       "array([-0.01402069, -0.01128587, -0.05553421, -0.00860196,  0.02863723])"
      ]
     },
     "execution_count": 72,
     "metadata": {},
     "output_type": "execute_result"
    }
   ],
   "source": [
    "from sklearn.model_selection import ShuffleSplit\n",
    "from sklearn.model_selection import cross_val_score\n",
    "cv = ShuffleSplit(n_splits=5,test_size=0.6,random_state=0)\n",
    "cross_val_score(LinearRegression(),X,y,cv=cv)"
   ]
  },
  {
   "cell_type": "markdown",
   "id": "d4fd318a",
   "metadata": {},
   "source": [
    "Voting Classifier"
   ]
  },
  {
   "cell_type": "code",
   "execution_count": 73,
   "id": "1d960d0a",
   "metadata": {},
   "outputs": [
    {
     "name": "stdout",
     "output_type": "stream",
     "text": [
      "Voting Classifier Accuracy: 0.9338842975206612\n"
     ]
    }
   ],
   "source": [
    "from sklearn.ensemble import VotingClassifier, VotingRegressor\n",
    "from sklearn.model_selection import train_test_split\n",
    "from sklearn.linear_model import LogisticRegression\n",
    "from sklearn.tree import DecisionTreeClassifier\n",
    "from sklearn.ensemble import RandomForestClassifier\n",
    "import warnings\n",
    "warnings.filterwarnings('ignore')\n",
    "feature_cols = ['Founded','Headquarters','Country','Industry','Revenue','Assets']\n",
    "X = df[feature_cols]\n",
    "y = df.Profits\n",
    "X_train, X_test, y_train, y_test = train_test_split(X, y, test_size=0.4,random_state=42)\n",
    "model1 = LogisticRegression()\n",
    "model2 = DecisionTreeClassifier()\n",
    "model3 = RandomForestClassifier()\n",
    "ensemble_model = VotingClassifier(estimators=[('lr', model1), ('dt', model2), ('rf', model3)], voting='soft')\n",
    "ensemble_model.fit(X_train, y_train)\n",
    "accuracy = ensemble_model.score(X_test, y_test)\n",
    "print(\"Voting Classifier Accuracy:\", accuracy)\n"
   ]
  },
  {
   "cell_type": "markdown",
   "id": "b1e93458",
   "metadata": {},
   "source": [
    "Random Forest Classifier"
   ]
  },
  {
   "cell_type": "code",
   "execution_count": 74,
   "id": "4374ba4f",
   "metadata": {},
   "outputs": [
    {
     "name": "stdout",
     "output_type": "stream",
     "text": [
      "Random Forest Accuracy: 0.9834710743801653\n"
     ]
    }
   ],
   "source": [
    "from sklearn.ensemble import RandomForestClassifier\n",
    "from sklearn.datasets import load_iris\n",
    "from sklearn.model_selection import train_test_split\n",
    "feature_cols = ['Founded','Headquarters','Country','Industry','Revenue','Assets']\n",
    "X = df[feature_cols]\n",
    "y = df.Profits\n",
    "X_train, X_test, y_train, y_test = train_test_split(X, y, test_size=0.4)\n",
    "model = RandomForestClassifier(n_estimators=100)\n",
    "model.fit(X_train, y_train)\n",
    "accuracy = model.score(X_test, y_test)\n",
    "print(\"Random Forest Accuracy:\", accuracy)"
   ]
  },
  {
   "cell_type": "markdown",
   "id": "70c3569c",
   "metadata": {},
   "source": [
    "Adaboost Classfier"
   ]
  },
  {
   "cell_type": "code",
   "execution_count": 75,
   "id": "15132c94",
   "metadata": {},
   "outputs": [
    {
     "name": "stdout",
     "output_type": "stream",
     "text": [
      "AdaBoost Accuracy: 0.12087912087912088\n"
     ]
    }
   ],
   "source": [
    "from sklearn.ensemble import AdaBoostClassifier\n",
    "from sklearn.ensemble import GradientBoostingClassifier\n",
    "from sklearn.model_selection import train_test_split\n",
    "from sklearn.tree import DecisionTreeClassifier\n",
    "import pandas as pd\n",
    "import warnings\n",
    "warnings.filterwarnings('ignore')\n",
    "feature_cols = ['Founded','Headquarters','Country','Industry','Revenue','Assets']\n",
    "X = df[feature_cols]\n",
    "y = df.Profits\n",
    "X_train, X_test, y_train, y_test = train_test_split(X, y, test_size=0.3)\n",
    "model = AdaBoostClassifier(base_estimator=DecisionTreeClassifier(max_depth=1),n_estimators=50)\n",
    "model.fit(X_train, y_train)\n",
    "accuracy = model.score(X_test, y_test)\n",
    "print(\"AdaBoost Accuracy:\", accuracy)"
   ]
  },
  {
   "cell_type": "markdown",
   "id": "7f09aea4",
   "metadata": {},
   "source": [
    "Stacking Classifier"
   ]
  },
  {
   "cell_type": "code",
   "execution_count": 76,
   "id": "d6031328",
   "metadata": {},
   "outputs": [
    {
     "name": "stdout",
     "output_type": "stream",
     "text": [
      "Stacking Classifier Accuracy: 0.9256198347107438\n"
     ]
    }
   ],
   "source": [
    "from sklearn.ensemble import StackingClassifier\n",
    "from sklearn.model_selection import train_test_split\n",
    "from sklearn.linear_model import LogisticRegression\n",
    "from sklearn.tree import DecisionTreeClassifier\n",
    "from sklearn.ensemble import RandomForestClassifier\n",
    "import pandas as pd\n",
    "import warnings\n",
    "warnings.filterwarnings('ignore')\n",
    "feature_cols = ['Founded','Headquarters','Country','Industry','Revenue','Assets']\n",
    "X = df[feature_cols]\n",
    "y = df.Profits\n",
    "X_train, X_test, y_train, y_test = train_test_split(X, y, test_size=0.2)\n",
    "model1 = LogisticRegression()\n",
    "model2 = DecisionTreeClassifier()\n",
    "model3 = RandomForestClassifier()\n",
    "ensemble_model = StackingClassifier(estimators=[('lr', model1), ('dt', model2), ('rf', model3)])\n",
    "ensemble_model.fit(X_train, y_train)\n",
    "accuracy = ensemble_model.score(X_test, y_test)\n",
    "print(\"Stacking Classifier Accuracy:\", accuracy)"
   ]
  },
  {
   "cell_type": "markdown",
   "id": "ba4d3104",
   "metadata": {},
   "source": [
    "#Decision Tree"
   ]
  },
  {
   "cell_type": "code",
   "execution_count": 77,
   "id": "40ff68c8",
   "metadata": {},
   "outputs": [
    {
     "data": {
      "text/plain": [
       "0.02475349787566916"
      ]
     },
     "execution_count": 77,
     "metadata": {},
     "output_type": "execute_result"
    }
   ],
   "source": [
    "from sklearn import tree\n",
    "from sklearn.model_selection import train_test_split\n",
    "X_train,X_test,y_train,y_test = train_test_split(X,y,test_size=0.2,random_state=42)\n",
    "clf = tree.DecisionTreeClassifier()\n",
    "lr_clf.fit(X_train,y_train)\n",
    "lr_clf.score(X_test,y_test)"
   ]
  },
  {
   "cell_type": "markdown",
   "id": "448393af",
   "metadata": {},
   "source": [
    "Extra Decision Tree Classifier"
   ]
  },
  {
   "cell_type": "code",
   "execution_count": 78,
   "id": "a9ab1890",
   "metadata": {},
   "outputs": [
    {
     "data": {
      "text/plain": [
       "0.9735099337748344"
      ]
     },
     "execution_count": 78,
     "metadata": {},
     "output_type": "execute_result"
    }
   ],
   "source": [
    "from sklearn.datasets import load_iris\n",
    "from sklearn.model_selection import train_test_split\n",
    "from sklearn.ensemble import BaggingClassifier\n",
    "from sklearn.tree import ExtraTreeClassifier\n",
    "X_train, X_test, y_train, y_test = train_test_split(X, y, random_state=0)\n",
    "extra_tree = ExtraTreeClassifier(random_state=0)\n",
    "cls = BaggingClassifier(extra_tree, random_state=0).fit(X_train, y_train)\n",
    "cls.score(X_test, y_test)"
   ]
  },
  {
   "cell_type": "markdown",
   "id": "ffd998a0",
   "metadata": {},
   "source": [
    "Extra Decision Tree Regressor"
   ]
  },
  {
   "cell_type": "code",
   "execution_count": 79,
   "id": "e4739215",
   "metadata": {},
   "outputs": [
    {
     "data": {
      "text/plain": [
       "0.9299360622318658"
      ]
     },
     "execution_count": 79,
     "metadata": {},
     "output_type": "execute_result"
    }
   ],
   "source": [
    "from sklearn.datasets import load_iris\n",
    "from sklearn.model_selection import train_test_split\n",
    "from sklearn.ensemble import BaggingRegressor\n",
    "from sklearn.tree import ExtraTreeRegressor\n",
    "X_train, X_test, y_train, y_test = train_test_split(X, y, random_state=0)\n",
    "extra_tree = ExtraTreeRegressor(random_state=0)\n",
    "cls = BaggingRegressor(extra_tree, random_state=0).fit(X_train, y_train)\n",
    "cls.score(X_test, y_test)"
   ]
  },
  {
   "cell_type": "markdown",
   "id": "58ff857c",
   "metadata": {},
   "source": [
    "Neural Networks"
   ]
  },
  {
   "cell_type": "code",
   "execution_count": 80,
   "id": "fb48ee40",
   "metadata": {},
   "outputs": [
    {
     "data": {
      "text/plain": [
       "0.88"
      ]
     },
     "execution_count": 80,
     "metadata": {},
     "output_type": "execute_result"
    }
   ],
   "source": [
    "from sklearn.neural_network import MLPClassifier\n",
    "from sklearn.datasets import make_classification\n",
    "from sklearn.model_selection import train_test_split\n",
    "X, y = make_classification(n_samples=100, random_state=1)\n",
    "X_train, X_test, y_train, y_test = train_test_split(X, y, stratify=y,random_state=1)\n",
    "clf = MLPClassifier(random_state=1, max_iter=300).fit(X_train, y_train)\n",
    "clf.score(X_test, y_test)"
   ]
  },
  {
   "cell_type": "markdown",
   "id": "629b6853",
   "metadata": {},
   "source": [
    "Gaussian Naive Bayes"
   ]
  },
  {
   "cell_type": "code",
   "execution_count": 81,
   "id": "077020f4",
   "metadata": {},
   "outputs": [
    {
     "name": "stdout",
     "output_type": "stream",
     "text": [
      "Accuracy : 0.96\n"
     ]
    }
   ],
   "source": [
    "from sklearn.naive_bayes import GaussianNB\n",
    "X_train, X_test, y_train, y_test = train_test_split(X, y, stratify=y,random_state=1)\n",
    "clf = GaussianNB()\n",
    "clf.fit(X, y)\n",
    "acc =clf.score(X,y)\n",
    "print(f\"Accuracy : {acc}\")"
   ]
  },
  {
   "cell_type": "markdown",
   "id": "743725b0",
   "metadata": {},
   "source": [
    "Model Evaluation"
   ]
  },
  {
   "cell_type": "code",
   "execution_count": 82,
   "id": "56058039",
   "metadata": {},
   "outputs": [
    {
     "name": "stdout",
     "output_type": "stream",
     "text": [
      "Stacking Classifier Accuracy: 0.9256198347107438\n"
     ]
    }
   ],
   "source": [
    "from sklearn.ensemble import StackingClassifier\n",
    "from sklearn.model_selection import train_test_split\n",
    "from sklearn.linear_model import LogisticRegression\n",
    "from sklearn.tree import DecisionTreeClassifier\n",
    "from sklearn.ensemble import RandomForestClassifier\n",
    "import pandas as pd\n",
    "import warnings\n",
    "warnings.filterwarnings('ignore')\n",
    "feature_cols = ['Founded','Headquarters','Country','Industry','Revenue','Assets']\n",
    "X = df[feature_cols]\n",
    "y = df.Profits\n",
    "X_train, X_test, y_train, y_test = train_test_split(X, y, test_size=0.2)\n",
    "model1 = LogisticRegression()\n",
    "model2 = DecisionTreeClassifier()\n",
    "model3 = RandomForestClassifier()\n",
    "ensemble_model = StackingClassifier(estimators=[('lr', model1), ('dt', model2), ('rf', model3)])\n",
    "ensemble_model.fit(X_train, y_train)\n",
    "accuracy = ensemble_model.score(X_test, y_test)\n",
    "print(\"Stacking Classifier Accuracy:\", accuracy)"
   ]
  },
  {
   "cell_type": "code",
   "execution_count": 83,
   "id": "9f582570",
   "metadata": {},
   "outputs": [
    {
     "data": {
      "text/plain": [
       "array([ 0, 66, 40, 27, 31, 63, 56, 56, 55,  1, 29, 43, 96, 51, 51, 58, 45,\n",
       "       75, 41, 50,  4, 44, 28, 51, 28, 29, 49, 55, 63, 96,  2, 27, 49,  6,\n",
       "       69, 12, 57, 48, 70, 34, 39, 75, 99, 42, 42, 71, 63, 86, 73, 10, 30,\n",
       "       91, 19, 84, 55, 54, 27, 70, 80, 69, 87, 77, 64, 90, 55, 64, 32, 98,\n",
       "       31, 62, 64, 59, 20, 70, 55, 85, 53, 67, 42, 59, 76, 21, 21, 87, 24,\n",
       "       88, 95, 79, 64, 15,  0, 61, 82, 84, 76, 83, 93, 60, 60, 86,  7, 89,\n",
       "        3, 77, 94, 58, 40, 67,  8, 24, 76, 75, 68, 16, 72, 26, 74, 38, 11,\n",
       "       14, 52, 23, 43, 78, 22, 25, 38, 36, 16, 55, 37, 92, 84, 81, 88, 47,\n",
       "        9, 17, 13, 39, 18, 31,  5, 55, 75, 16, 87, 87, 96, 97, 35,  0, 66,\n",
       "       40, 27, 31, 63, 56, 56, 55,  1, 29, 43, 96, 51, 51, 58, 45, 75, 41,\n",
       "       50,  4, 44, 28, 51, 28, 29, 49, 55, 63, 96,  2, 27, 49,  6, 69, 12,\n",
       "       57, 48, 70, 34, 39, 75, 99, 42, 42, 71, 63, 86, 73, 10, 30, 91, 19,\n",
       "       84, 55, 54, 27, 70, 80, 69, 87, 77, 64, 90, 55, 64, 32, 98, 31, 62,\n",
       "       64, 59, 20, 70, 55, 85, 53, 67, 42, 59, 76, 21, 21, 87, 24, 88, 95,\n",
       "       79, 64, 15,  0, 61, 82, 84, 76, 83, 93, 60, 60, 86,  7, 89,  3, 77,\n",
       "       94, 58, 40, 67,  8, 24, 76, 75, 68, 16, 72, 26, 74, 38, 11, 14, 52,\n",
       "       23, 43, 78, 22, 25, 38, 36, 16, 55, 37, 92, 84, 81, 88, 47,  9, 17,\n",
       "       13, 39, 18, 31,  5, 55, 75, 16, 87, 87, 96, 97, 35,  0, 66, 40, 27,\n",
       "       31, 63, 56, 56, 55,  1, 29, 43, 96, 51, 51, 58, 45, 75, 41, 50,  4,\n",
       "       44, 28, 51, 28, 29, 49, 55, 63, 96,  2, 27, 49,  6, 69, 12, 57, 48,\n",
       "       70, 34, 39, 75, 99, 42, 42, 71, 63, 86, 73, 10, 30, 91, 19, 84, 55,\n",
       "       54, 27, 70, 80, 69, 87, 77, 64, 90, 55, 64, 32, 98, 31, 62, 64, 59,\n",
       "       20, 70, 55, 85, 53, 67, 42, 59, 76, 21, 21, 87, 24, 88, 95, 79, 64,\n",
       "       15,  0, 61, 82, 84, 76, 83, 93, 60, 60, 86,  7, 89,  3, 77, 94, 58,\n",
       "       40, 67,  8, 24, 76, 75, 68, 16, 72, 26, 74, 38, 11, 14, 52, 23, 43,\n",
       "       78, 22, 25, 38, 36, 16, 55, 37, 92, 84, 81, 88, 47,  9, 17, 13, 39,\n",
       "       18, 31,  5, 55, 75, 16, 87, 87, 96, 97, 35,  0, 66, 40, 27, 31, 63,\n",
       "       56, 56, 55,  1, 29, 43, 96, 51, 51, 58, 45, 75, 41, 50,  4, 44, 28,\n",
       "       51, 28, 29, 49, 55, 63, 96,  2, 27, 49,  6, 69, 12, 57, 48, 70, 34,\n",
       "       39, 75, 99, 42, 42, 71, 63, 86, 73, 10, 30, 91, 19, 84, 55, 54, 27,\n",
       "       70, 80, 69, 87, 77, 64, 90, 55, 64, 32, 98, 31, 62, 64, 59, 20, 70,\n",
       "       55, 85, 53, 67, 42, 59, 76, 21, 21, 87, 24, 88, 95, 79, 64, 15,  0,\n",
       "       61, 82, 84, 76, 83, 93, 60, 60, 86,  7, 89,  3, 77, 94, 58, 40, 67,\n",
       "        8, 24, 76, 75, 68, 16, 72, 26, 74, 38, 11, 14, 52, 23, 43, 78, 22,\n",
       "       25, 38, 36, 16, 55, 37, 92, 84, 81, 88, 47,  9, 17, 13, 39, 18, 31,\n",
       "        5, 55, 75, 16, 87, 87, 96, 97, 35])"
      ]
     },
     "execution_count": 83,
     "metadata": {},
     "output_type": "execute_result"
    }
   ],
   "source": [
    "pred = ensemble_model.predict(X)\n",
    "pred"
   ]
  },
  {
   "cell_type": "markdown",
   "id": "0c6f6939",
   "metadata": {},
   "source": [
    "#CONFUSION MATRIX"
   ]
  },
  {
   "cell_type": "code",
   "execution_count": 84,
   "id": "23273493",
   "metadata": {},
   "outputs": [
    {
     "name": "stdout",
     "output_type": "stream",
     "text": [
      "Confusion Matrix:\n",
      "[[8 0 0 ... 0 0 0]\n",
      " [0 4 0 ... 0 0 0]\n",
      " [0 0 4 ... 0 0 0]\n",
      " ...\n",
      " [0 0 0 ... 4 0 0]\n",
      " [0 0 0 ... 0 4 0]\n",
      " [0 0 0 ... 0 0 4]]\n"
     ]
    }
   ],
   "source": [
    "from sklearn.metrics import confusion_matrix\n",
    "cm=confusion_matrix(y,pred)\n",
    "print(\"Confusion Matrix:\")\n",
    "print(cm)"
   ]
  },
  {
   "cell_type": "markdown",
   "id": "90c87cb7",
   "metadata": {},
   "source": [
    "Accuracy - Confusion Matrix"
   ]
  },
  {
   "cell_type": "code",
   "execution_count": 85,
   "id": "c6d35396",
   "metadata": {},
   "outputs": [
    {
     "name": "stdout",
     "output_type": "stream",
     "text": [
      "Accuracy: 0.9801324503311258\n"
     ]
    }
   ],
   "source": [
    "from sklearn.metrics import accuracy_score\n",
    "\n",
    "accuracy = accuracy_score(y, pred)\n",
    "print(\"Accuracy:\", accuracy)"
   ]
  },
  {
   "cell_type": "markdown",
   "id": "ef8824d3",
   "metadata": {},
   "source": [
    "Precision-Confusion Matrix"
   ]
  },
  {
   "cell_type": "code",
   "execution_count": 86,
   "id": "39b223e9",
   "metadata": {},
   "outputs": [
    {
     "name": "stdout",
     "output_type": "stream",
     "text": [
      "Precision: 0.9619047619047619\n"
     ]
    }
   ],
   "source": [
    "from sklearn.metrics import precision_score\n",
    "precision = precision_score(y, pred,average='macro')\n",
    "print(\"Precision:\", precision)"
   ]
  },
  {
   "cell_type": "markdown",
   "id": "ef2071c4",
   "metadata": {},
   "source": [
    "Recall - Confusion Matrix"
   ]
  },
  {
   "cell_type": "code",
   "execution_count": 87,
   "id": "d40369b2",
   "metadata": {},
   "outputs": [
    {
     "name": "stdout",
     "output_type": "stream",
     "text": [
      "Recall: 0.97\n"
     ]
    }
   ],
   "source": [
    "from sklearn.metrics import recall_score\n",
    "recall = recall_score(y, pred,average='macro')\n",
    "print(\"Recall:\", recall)"
   ]
  },
  {
   "cell_type": "markdown",
   "id": "3d6066b0",
   "metadata": {},
   "source": [
    "F1-Score - Confusion Matrix"
   ]
  },
  {
   "cell_type": "code",
   "execution_count": 88,
   "id": "dc5f87cd",
   "metadata": {},
   "outputs": [
    {
     "name": "stdout",
     "output_type": "stream",
     "text": [
      "F1-Score: 0.9652307692307691\n"
     ]
    }
   ],
   "source": [
    "from sklearn.metrics import f1_score\n",
    "f1 = f1_score(y,pred,average='macro')\n",
    "print(\"F1-Score:\", f1)"
   ]
  },
  {
   "cell_type": "code",
   "execution_count": 89,
   "id": "bf5cd31e",
   "metadata": {},
   "outputs": [
    {
     "name": "stdout",
     "output_type": "stream",
     "text": [
      "AUC-ROC: 1.0\n"
     ]
    },
    {
     "data": {
      "image/png": "[encoded data removed]",
      "text/plain": [
       "<Figure size 600x400 with 1 Axes>"
      ]
     },
     "metadata": {},
     "output_type": "display_data"
    }
   ],
   "source": [
    "from sklearn.metrics import roc_curve, roc_auc_score\n",
    "import matplotlib.pyplot as plt\n",
    "# Assuming 'y_true' contains the true binary labels and 'y_prob' contains the predicted probabilities for the positive class\n",
    "y_true = [0, 1, 1, 0, 1, 0, 0]\n",
    "y_prob = [0.2, 0.8, 0.7, 0.4, 0.9, 0.3, 0.6]\n",
    "auc_roc = roc_auc_score(y_true, y_prob)\n",
    "print(\"AUC-ROC:\", auc_roc)\n",
    "fpr, tpr, thresholds = roc_curve(y_true, y_prob)\n",
    "auc = roc_auc_score(y_true, y_prob)\n",
    "plt.figure(figsize=(6, 4))\n",
    "plt.plot(fpr, tpr, label=f\"AUC = {auc:.2f}\")\n",
    "plt.xlabel(\"False Positive Rate\")\n",
    "plt.ylabel(\"True Positive Rate\")\n",
    "plt.title(\"ROC Curve\")\n",
    "plt.legend()\n",
    "plt.show()"
   ]
  },
  {
   "cell_type": "code",
   "execution_count": 90,
   "id": "67f0f8a9",
   "metadata": {},
   "outputs": [
    {
     "data": {
      "text/plain": [
       "0.7019867549668874"
      ]
     },
     "execution_count": 90,
     "metadata": {},
     "output_type": "execute_result"
    }
   ],
   "source": [
    "from sklearn.metrics import mean_absolute_error\n",
    "mae = mean_absolute_error(y, pred)\n",
    "mae"
   ]
  },
  {
   "cell_type": "code",
   "execution_count": 91,
   "id": "27e92ea9",
   "metadata": {},
   "outputs": [
    {
     "data": {
      "text/plain": [
       "34.47682119205298"
      ]
     },
     "execution_count": 91,
     "metadata": {},
     "output_type": "execute_result"
    }
   ],
   "source": [
    "from sklearn.metrics import mean_squared_error\n",
    "mse = mean_squared_error(y, pred)\n",
    "mse"
   ]
  },
  {
   "cell_type": "code",
   "execution_count": 92,
   "id": "7df6d068",
   "metadata": {},
   "outputs": [
    {
     "name": "stdout",
     "output_type": "stream",
     "text": [
      "R-squared (R²): 0.952716480896365\n"
     ]
    }
   ],
   "source": [
    "from sklearn.metrics import r2_score\n",
    "r_squared = r2_score(y, pred)\n",
    "print(\"R-squared (R²):\", r_squared)"
   ]
  },
  {
   "cell_type": "code",
   "execution_count": 93,
   "id": "c86e014e",
   "metadata": {},
   "outputs": [
    {
     "name": "stdout",
     "output_type": "stream",
     "text": [
      "RMSE: 5.87169661955154\n"
     ]
    }
   ],
   "source": [
    "from sklearn.metrics import mean_squared_error\n",
    "import numpy as np\n",
    "mse = mean_squared_error(y, pred)\n",
    "rmse = np.sqrt(mse)\n",
    "print(\"RMSE:\", rmse)"
   ]
  },
  {
   "cell_type": "code",
   "execution_count": 94,
   "id": "27d782e9",
   "metadata": {},
   "outputs": [
    {
     "name": "stdout",
     "output_type": "stream",
     "text": [
      "Silhouette Score: 0.20994698112465054\n"
     ]
    }
   ],
   "source": [
    "from sklearn.metrics import silhouette_score\n",
    "silhouette_avg = silhouette_score(X, y)\n",
    "print(\"Silhouette Score:\", silhouette_avg)"
   ]
  },
  {
   "cell_type": "code",
   "execution_count": 95,
   "id": "80ec8022",
   "metadata": {},
   "outputs": [
    {
     "data": {
      "image/png": "[encoded data removed]",
      "text/plain": [
       "<Figure size 1000x500 with 1 Axes>"
      ]
     },
     "metadata": {},
     "output_type": "display_data"
    }
   ],
   "source": [
    "import numpy as np\n",
    "import matplotlib.pyplot as plt\n",
    "from sklearn.model_selection import train_test_split\n",
    "from sklearn.preprocessing import PolynomialFeatures\n",
    "from sklearn.linear_model import LinearRegression\n",
    "from sklearn.metrics import mean_squared_error\n",
    "\n",
    "# Generate synthetic data\n",
    "np.random.seed(0)\n",
    "X = np.sort(5 * np.random.rand(80, 1), axis=0)\n",
    "y = np.sin(X).ravel() + np.random.normal(0, 0.1, X.shape[0])\n",
    "\n",
    "# Split the data into training and validation sets\n",
    "X_train, X_val, y_train, y_val = train_test_split(X, y, test_size=0.2, random_state=0)\n",
    "\n",
    "# Initialize lists to store training and validation errors\n",
    "train_errors, val_errors = [], []\n",
    "\n",
    "# Try different polynomial degrees from 1 to 20\n",
    "degrees = list(range(1, 21))\n",
    "\n",
    "for degree in degrees:\n",
    "    # Create polynomial features\n",
    "    poly_features = PolynomialFeatures(degree=degree, include_bias=False)\n",
    "    X_train_poly = poly_features.fit_transform(X_train)\n",
    "    X_val_poly = poly_features.transform(X_val)\n",
    "\n",
    "    # Train a linear regression model\n",
    "    model = LinearRegression()\n",
    "    model.fit(X_train_poly, y_train)\n",
    "\n",
    "    # Calculate training and validation errors\n",
    "    y_train_pred = model.predict(X_train_poly)\n",
    "    y_val_pred = model.predict(X_val_poly)\n",
    "    train_error = mean_squared_error(y_train, y_train_pred)\n",
    "    val_error = mean_squared_error(y_val, y_val_pred)\n",
    "\n",
    "    train_errors.append(train_error)\n",
    "    val_errors.append(val_error)\n",
    "\n",
    "# Plot the learning curves\n",
    "plt.figure(figsize=(10, 5))\n",
    "plt.plot(degrees, train_errors, label=\"Training error\")\n",
    "plt.plot(degrees, val_errors, label=\"Validation error\")\n",
    "plt.xlabel(\"Polynomial Degree\")\n",
    "plt.ylabel(\"Mean Squared Error\")\n",
    "plt.legend()\n",
    "plt.title(\"Training and Validation Curves\")\n",
    "plt.grid(True)\n",
    "plt.show()"
   ]
  },
  {
   "cell_type": "code",
   "execution_count": null,
   "id": "570472b0",
   "metadata": {},
   "outputs": [],
   "source": []
  }
 ],
 "metadata": {
  "kernelspec": {
   "display_name": "Python 3 (ipykernel)",
   "language": "python",
   "name": "python3"
  },
  "language_info": {
   "codemirror_mode": {
    "name": "ipython",
    "version": 3
   },
   "file_extension": ".py",
   "mimetype": "text/x-python",
   "name": "python",
   "nbconvert_exporter": "python",
   "pygments_lexer": "ipython3",
   "version": "3.11.5"
  }
 },
 "nbformat": 4,
 "nbformat_minor": 5
}
